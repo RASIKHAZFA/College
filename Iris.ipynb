{
  "cells": [
    {
      "attachments": {},
      "cell_type": "markdown",
      "metadata": {
        "id": "APIBLv_AzRJ1"
      },
      "source": [
        "# **DECISION TREE**"
      ]
    },
    {
      "cell_type": "code",
      "execution_count": 1,
      "metadata": {
        "id": "29CUo1JNp4rK"
      },
      "outputs": [],
      "source": [
        "#import library yang diperlukan serta data bawaan dari sklearn yaitu data iris\n",
        "import pandas as pd\n",
        "from sklearn.datasets import load_iris\n",
        "from sklearn.tree import DecisionTreeClassifier\n",
        "from sklearn.model_selection import train_test_split"
      ]
    },
    {
      "cell_type": "code",
      "execution_count": 2,
      "metadata": {
        "id": "oaf7L3w9qi82"
      },
      "outputs": [],
      "source": [
        "iris = load_iris() #menyimpan data iris di variabel iris\n",
        "features = pd.DataFrame(iris.data) # variabel X (independent)\n",
        "labels = pd.DataFrame(iris.target) # variabel Y (Dependent)"
      ]
    },
    {
      "cell_type": "code",
      "execution_count": 3,
      "metadata": {
        "colab": {
          "base_uri": "https://localhost:8080/",
          "height": 0
        },
        "id": "lSQcxpTI5Uj-",
        "outputId": "abddc336-2440-4c39-88d5-68802a591837"
      },
      "outputs": [
        {
          "name": "stdout",
          "output_type": "stream",
          "text": [
            ".. _iris_dataset:\n",
            "\n",
            "Iris plants dataset\n",
            "--------------------\n",
            "\n",
            "**Data Set Characteristics:**\n",
            "\n",
            "    :Number of Instances: 150 (50 in each of three classes)\n",
            "    :Number of Attributes: 4 numeric, predictive attributes and the class\n",
            "    :Attribute Information:\n",
            "        - sepal length in cm\n",
            "        - sepal width in cm\n",
            "        - petal length in cm\n",
            "        - petal width in cm\n",
            "        - class:\n",
            "                - Iris-Setosa\n",
            "                - Iris-Versicolour\n",
            "                - Iris-Virginica\n",
            "                \n",
            "    :Summary Statistics:\n",
            "\n",
            "    ============== ==== ==== ======= ===== ====================\n",
            "                    Min  Max   Mean    SD   Class Correlation\n",
            "    ============== ==== ==== ======= ===== ====================\n",
            "    sepal length:   4.3  7.9   5.84   0.83    0.7826\n",
            "    sepal width:    2.0  4.4   3.05   0.43   -0.4194\n",
            "    petal length:   1.0  6.9   3.76   1.76    0.9490  (high!)\n",
            "    petal width:    0.1  2.5   1.20   0.76    0.9565  (high!)\n",
            "    ============== ==== ==== ======= ===== ====================\n",
            "\n",
            "    :Missing Attribute Values: None\n",
            "    :Class Distribution: 33.3% for each of 3 classes.\n",
            "    :Creator: R.A. Fisher\n",
            "    :Donor: Michael Marshall (MARSHALL%PLU@io.arc.nasa.gov)\n",
            "    :Date: July, 1988\n",
            "\n",
            "The famous Iris database, first used by Sir R.A. Fisher. The dataset is taken\n",
            "from Fisher's paper. Note that it's the same as in R, but not as in the UCI\n",
            "Machine Learning Repository, which has two wrong data points.\n",
            "\n",
            "This is perhaps the best known database to be found in the\n",
            "pattern recognition literature.  Fisher's paper is a classic in the field and\n",
            "is referenced frequently to this day.  (See Duda & Hart, for example.)  The\n",
            "data set contains 3 classes of 50 instances each, where each class refers to a\n",
            "type of iris plant.  One class is linearly separable from the other 2; the\n",
            "latter are NOT linearly separable from each other.\n",
            "\n",
            ".. topic:: References\n",
            "\n",
            "   - Fisher, R.A. \"The use of multiple measurements in taxonomic problems\"\n",
            "     Annual Eugenics, 7, Part II, 179-188 (1936); also in \"Contributions to\n",
            "     Mathematical Statistics\" (John Wiley, NY, 1950).\n",
            "   - Duda, R.O., & Hart, P.E. (1973) Pattern Classification and Scene Analysis.\n",
            "     (Q327.D83) John Wiley & Sons.  ISBN 0-471-22361-1.  See page 218.\n",
            "   - Dasarathy, B.V. (1980) \"Nosing Around the Neighborhood: A New System\n",
            "     Structure and Classification Rule for Recognition in Partially Exposed\n",
            "     Environments\".  IEEE Transactions on Pattern Analysis and Machine\n",
            "     Intelligence, Vol. PAMI-2, No. 1, 67-71.\n",
            "   - Gates, G.W. (1972) \"The Reduced Nearest Neighbor Rule\".  IEEE Transactions\n",
            "     on Information Theory, May 1972, 431-433.\n",
            "   - See also: 1988 MLC Proceedings, 54-64.  Cheeseman et al\"s AUTOCLASS II\n",
            "     conceptual clustering system finds 3 classes in the data.\n",
            "   - Many, many more ...\n"
          ]
        }
      ],
      "source": [
        "#Menampilkan deskripsi dari data\n",
        "print(iris.DESCR)"
      ]
    },
    {
      "attachments": {},
      "cell_type": "markdown",
      "metadata": {
        "id": "MxX-gPm3rTRb"
      },
      "source": [
        "**SPLIT DATASET**\n"
      ]
    },
    {
      "cell_type": "code",
      "execution_count": 4,
      "metadata": {
        "colab": {
          "base_uri": "https://localhost:8080/",
          "height": 0
        },
        "id": "o1CUHysBqymu",
        "outputId": "f330c1d7-f702-4ab1-ae1a-531982956aba"
      },
      "outputs": [
        {
          "name": "stdout",
          "output_type": "stream",
          "text": [
            "(150, 4)\n",
            "(150, 1)\n"
          ]
        }
      ],
      "source": [
        "#melakukan train test split dengan data test = 40% dan random state = 0\n",
        "features_train, features_test, labels_train, labels_test, = train_test_split(features,labels,test_size = 0.4,random_state = 0)\n",
        "print(features.shape)\n",
        "print(labels.shape)"
      ]
    },
    {
      "attachments": {},
      "cell_type": "markdown",
      "metadata": {
        "id": "3gPkdNLaB_8K"
      },
      "source": [
        "features atau prediktor terdiri dari 150 baris dan 4 kolom (variabel x)\n",
        "\n",
        "sedangkan label atau respons terdiri dari 150 baris dan 1 kolom (variabel y)"
      ]
    },
    {
      "attachments": {},
      "cell_type": "markdown",
      "metadata": {
        "id": "gmmmakIqs70x"
      },
      "source": [
        "**FITTING DATA**"
      ]
    },
    {
      "cell_type": "code",
      "execution_count": 5,
      "metadata": {
        "colab": {
          "base_uri": "https://localhost:8080/",
          "height": 0
        },
        "id": "K29MBYUFsMFa",
        "outputId": "96054f5a-f3a2-462e-adc7-e56995111ba5"
      },
      "outputs": [
        {
          "name": "stdout",
          "output_type": "stream",
          "text": [
            "[2 1 0 2 0 2 0 1 1 1 2 1 1 1 1 0 1 1 0 0 2 1 0 0 2 0 0 1 1 0 2 1 0 2 2 1 0\n",
            " 2 1 1 2 0 2 0 0 1 2 2 1 2 1 2 1 1 2 2 1 2 1 2]\n"
          ]
        }
      ],
      "source": [
        "#menggunakan model fitting data dengan criterion atau ukuran = entropy (keacakan)\n",
        "clf = DecisionTreeClassifier(criterion = \"entropy\")\n",
        "\n",
        "#melakukan fitting data features dan label train kedalam model\n",
        "clf.fit(features_train, labels_train)\n",
        "\n",
        "#melakukan prediksi menggunakan variabel features test\n",
        "pred = clf.predict(features_test)\n",
        "print(pred)"
      ]
    },
    {
      "cell_type": "code",
      "execution_count": 6,
      "metadata": {
        "colab": {
          "base_uri": "https://localhost:8080/",
          "height": 0
        },
        "id": "aMeRTNultmb5",
        "outputId": "3b710268-85a1-49f3-b583-33f480f1f00c"
      },
      "outputs": [
        {
          "name": "stdout",
          "output_type": "stream",
          "text": [
            "[2 1 0 2 0 2 0 1 1 1 2 1 1 1 1 0 1 1 0 0 2 1 0 0 2 0 0 1 1 0 2 1 0 2 2 1 0\n",
            " 2 1 1 2 0 2 0 0 1 2 2 1 2 1 2 1 1 2 2 1 2 1 2]\n"
          ]
        }
      ],
      "source": [
        "#menggunakan model fitting data dengan criterion (ukuran) = gini (ketidakmurnian)\n",
        "clf = DecisionTreeClassifier(criterion = \"gini\")\n",
        "\n",
        "#melakukan fitting data features dan label train kedalam model\n",
        "clf.fit(features_train, labels_train)\n",
        "\n",
        "#melakukan prediksi \n",
        "pred = clf.predict(features_test)\n",
        "print(pred)"
      ]
    },
    {
      "attachments": {},
      "cell_type": "markdown",
      "metadata": {
        "id": "5qTjHhry5_b5"
      },
      "source": [
        "Setelah dilakukan prediksi dengan menggunakan criterion entropy dan gini, ternyata kedua ukuran tersebut memberikan hasil prediksi yang sama. \n",
        "\n",
        "Dimana 0 untuk kelas sentosa, dan 1 untuk kelas versicolor, dan 2 untuk kelas virginica."
      ]
    },
    {
      "attachments": {},
      "cell_type": "markdown",
      "metadata": {
        "id": "VfKVJkvItYOS"
      },
      "source": [
        "**ACCURACY**"
      ]
    },
    {
      "cell_type": "code",
      "execution_count": 7,
      "metadata": {
        "colab": {
          "base_uri": "https://localhost:8080/",
          "height": 0
        },
        "id": "hjuSXdoCtT7z",
        "outputId": "c5f2d1a7-8f3a-4215-b9b0-c720e7ae1c65"
      },
      "outputs": [
        {
          "name": "stdout",
          "output_type": "stream",
          "text": [
            "akurasi yang didapatkan dari model decision tree sebesar: 0.95\n"
          ]
        }
      ],
      "source": [
        "#mengimport library yang dibutuhkan\n",
        "from sklearn.metrics import accuracy_score\n",
        "\n",
        "#melihat akurasi dari model\n",
        "accuracy = accuracy_score(labels_test, pred)\n",
        "print(f'akurasi yang didapatkan dari model decision tree sebesar: {accuracy}')"
      ]
    },
    {
      "cell_type": "code",
      "execution_count": 8,
      "metadata": {
        "colab": {
          "base_uri": "https://localhost:8080/",
          "height": 422
        },
        "id": "kB0n6lvjuHZz",
        "outputId": "b24d9924-af8e-45d2-c0ae-9b42b6fe6e29"
      },
      "outputs": [
        {
          "data": {
            "image/png": "[encoded data removed]",
            "text/plain": [
              "<Figure size 720x360 with 1 Axes>"
            ]
          },
          "metadata": {
            "needs_background": "light"
          },
          "output_type": "display_data"
        }
      ],
      "source": [
        "#visualisasi \n",
        "import matplotlib.pyplot as plt\n",
        "from sklearn import tree\n",
        "\n",
        "fig = plt.figure(figsize=(10,5))\n",
        "tree.plot_tree(clf,\n",
        "               feature_names = iris.feature_names,\n",
        "               class_names = iris.target_names,\n",
        "               filled = True)\n",
        "\n",
        "plt.show()"
      ]
    },
    {
      "attachments": {},
      "cell_type": "markdown",
      "metadata": {
        "id": "jTyoF4iBwlGZ"
      },
      "source": [
        "Entropy : lebih kompleks dibanding gini dan lebih lama, karena menggunakan log\n",
        "\n",
        "Gini : lebih sederhana, karena tidak menggunakan log"
      ]
    },
    {
      "attachments": {},
      "cell_type": "markdown",
      "metadata": {
        "id": "x949ZeyfwwUY"
      },
      "source": [
        "# **KNN REGRESI**"
      ]
    },
    {
      "cell_type": "code",
      "execution_count": 9,
      "metadata": {
        "colab": {
          "base_uri": "https://localhost:8080/",
          "height": 0
        },
        "id": "Fz1EsZwavRcC",
        "outputId": "cff803a2-4b13-4928-dff5-1f8f1adc1eab"
      },
      "outputs": [
        {
          "name": "stdout",
          "output_type": "stream",
          "text": [
            "Collecting pydataset\n",
            "  Downloading pydataset-0.2.0.tar.gz (15.9 MB)\n",
            "     ---------------------------------------- 15.9/15.9 MB 1.5 MB/s eta 0:00:00\n",
            "  Preparing metadata (setup.py): started\n",
            "  Preparing metadata (setup.py): finished with status 'done'\n",
            "Requirement already satisfied: pandas in c:\\users\\msi-pc\\appdata\\local\\programs\\python\\python310\\lib\\site-packages (from pydataset) (1.4.0)\n",
            "Requirement already satisfied: pytz>=2020.1 in c:\\users\\msi-pc\\appdata\\roaming\\python\\python310\\site-packages (from pandas->pydataset) (2021.3)\n",
            "Requirement already satisfied: python-dateutil>=2.8.1 in c:\\users\\msi-pc\\appdata\\roaming\\python\\python310\\site-packages (from pandas->pydataset) (2.8.2)\n",
            "Requirement already satisfied: numpy>=1.21.0 in c:\\users\\msi-pc\\appdata\\local\\programs\\python\\python310\\lib\\site-packages (from pandas->pydataset) (1.24.1)\n",
            "Requirement already satisfied: six>=1.5 in c:\\users\\msi-pc\\appdata\\roaming\\python\\python310\\site-packages (from python-dateutil>=2.8.1->pandas->pydataset) (1.16.0)\n",
            "Using legacy 'setup.py install' for pydataset, since package 'wheel' is not installed.\n",
            "Installing collected packages: pydataset\n",
            "  Running setup.py install for pydataset: started\n",
            "  Running setup.py install for pydataset: finished with status 'done'\n",
            "Successfully installed pydataset-0.2.0\n",
            "Note: you may need to restart the kernel to use updated packages.\n"
          ]
        },
        {
          "name": "stderr",
          "output_type": "stream",
          "text": [
            "WARNING: You are using pip version 22.0.2; however, version 23.1.2 is available.\n",
            "You should consider upgrading via the 'c:\\Users\\msi-pc\\AppData\\Local\\Programs\\Python\\Python310\\python.exe -m pip install --upgrade pip' command.\n"
          ]
        }
      ],
      "source": [
        "pip install pydataset"
      ]
    },
    {
      "cell_type": "code",
      "execution_count": 10,
      "metadata": {
        "colab": {
          "base_uri": "https://localhost:8080/",
          "height": 0
        },
        "id": "9vpAu6irw0dR",
        "outputId": "559af2da-7f3d-47d1-892b-3cacad730655"
      },
      "outputs": [
        {
          "name": "stdout",
          "output_type": "stream",
          "text": [
            "initiated datasets repo at: C:\\Users\\msi-pc\\.pydataset/\n"
          ]
        }
      ],
      "source": [
        "#mengimport library yang dibutuhkan\n",
        "from pydataset import data\n",
        "import numpy as np"
      ]
    },
    {
      "cell_type": "code",
      "execution_count": 11,
      "metadata": {
        "id": "oPZFMuTyw-P2"
      },
      "outputs": [],
      "source": [
        "#memanggil data\n",
        "df = data(\"turnout\")"
      ]
    },
    {
      "cell_type": "code",
      "execution_count": 12,
      "metadata": {
        "colab": {
          "base_uri": "https://localhost:8080/",
          "height": 424
        },
        "id": "yj64kcVtxX94",
        "outputId": "734d6c42-a520-498d-80a4-27a69b4d4a2b"
      },
      "outputs": [
        {
          "data": {
            "text/html": [
              "<div>\n",
              "<style scoped>\n",
              "    .dataframe tbody tr th:only-of-type {\n",
              "        vertical-align: middle;\n",
              "    }\n",
              "\n",
              "    .dataframe tbody tr th {\n",
              "        vertical-align: top;\n",
              "    }\n",
              "\n",
              "    .dataframe thead th {\n",
              "        text-align: right;\n",
              "    }\n",
              "</style>\n",
              "<table border=\"1\" class=\"dataframe\">\n",
              "  <thead>\n",
              "    <tr style=\"text-align: right;\">\n",
              "      <th></th>\n",
              "      <th>race</th>\n",
              "      <th>age</th>\n",
              "      <th>educate</th>\n",
              "      <th>income</th>\n",
              "      <th>vote</th>\n",
              "    </tr>\n",
              "  </thead>\n",
              "  <tbody>\n",
              "    <tr>\n",
              "      <th>1</th>\n",
              "      <td>white</td>\n",
              "      <td>60</td>\n",
              "      <td>14.0</td>\n",
              "      <td>3.3458</td>\n",
              "      <td>1</td>\n",
              "    </tr>\n",
              "    <tr>\n",
              "      <th>2</th>\n",
              "      <td>white</td>\n",
              "      <td>51</td>\n",
              "      <td>10.0</td>\n",
              "      <td>1.8561</td>\n",
              "      <td>0</td>\n",
              "    </tr>\n",
              "    <tr>\n",
              "      <th>3</th>\n",
              "      <td>white</td>\n",
              "      <td>24</td>\n",
              "      <td>12.0</td>\n",
              "      <td>0.6304</td>\n",
              "      <td>0</td>\n",
              "    </tr>\n",
              "    <tr>\n",
              "      <th>4</th>\n",
              "      <td>white</td>\n",
              "      <td>38</td>\n",
              "      <td>8.0</td>\n",
              "      <td>3.4183</td>\n",
              "      <td>1</td>\n",
              "    </tr>\n",
              "    <tr>\n",
              "      <th>5</th>\n",
              "      <td>white</td>\n",
              "      <td>25</td>\n",
              "      <td>12.0</td>\n",
              "      <td>2.7852</td>\n",
              "      <td>1</td>\n",
              "    </tr>\n",
              "    <tr>\n",
              "      <th>...</th>\n",
              "      <td>...</td>\n",
              "      <td>...</td>\n",
              "      <td>...</td>\n",
              "      <td>...</td>\n",
              "      <td>...</td>\n",
              "    </tr>\n",
              "    <tr>\n",
              "      <th>1996</th>\n",
              "      <td>white</td>\n",
              "      <td>26</td>\n",
              "      <td>16.0</td>\n",
              "      <td>3.3834</td>\n",
              "      <td>0</td>\n",
              "    </tr>\n",
              "    <tr>\n",
              "      <th>1997</th>\n",
              "      <td>white</td>\n",
              "      <td>34</td>\n",
              "      <td>12.0</td>\n",
              "      <td>2.9170</td>\n",
              "      <td>1</td>\n",
              "    </tr>\n",
              "    <tr>\n",
              "      <th>1998</th>\n",
              "      <td>white</td>\n",
              "      <td>51</td>\n",
              "      <td>16.0</td>\n",
              "      <td>7.8949</td>\n",
              "      <td>1</td>\n",
              "    </tr>\n",
              "    <tr>\n",
              "      <th>1999</th>\n",
              "      <td>white</td>\n",
              "      <td>22</td>\n",
              "      <td>10.0</td>\n",
              "      <td>2.4811</td>\n",
              "      <td>0</td>\n",
              "    </tr>\n",
              "    <tr>\n",
              "      <th>2000</th>\n",
              "      <td>white</td>\n",
              "      <td>59</td>\n",
              "      <td>10.0</td>\n",
              "      <td>0.5523</td>\n",
              "      <td>0</td>\n",
              "    </tr>\n",
              "  </tbody>\n",
              "</table>\n",
              "<p>2000 rows × 5 columns</p>\n",
              "</div>"
            ],
            "text/plain": [
              "       race  age  educate  income  vote\n",
              "1     white   60     14.0  3.3458     1\n",
              "2     white   51     10.0  1.8561     0\n",
              "3     white   24     12.0  0.6304     0\n",
              "4     white   38      8.0  3.4183     1\n",
              "5     white   25     12.0  2.7852     1\n",
              "...     ...  ...      ...     ...   ...\n",
              "1996  white   26     16.0  3.3834     0\n",
              "1997  white   34     12.0  2.9170     1\n",
              "1998  white   51     16.0  7.8949     1\n",
              "1999  white   22     10.0  2.4811     0\n",
              "2000  white   59     10.0  0.5523     0\n",
              "\n",
              "[2000 rows x 5 columns]"
            ]
          },
          "execution_count": 12,
          "metadata": {},
          "output_type": "execute_result"
        }
      ],
      "source": [
        "#menampilkan data\n",
        "df"
      ]
    },
    {
      "cell_type": "code",
      "execution_count": 13,
      "metadata": {
        "colab": {
          "base_uri": "https://localhost:8080/",
          "height": 0
        },
        "id": "0MBu5hyB7nBm",
        "outputId": "350d7cf6-5c4e-497e-932e-139c4e2ccf5d"
      },
      "outputs": [
        {
          "name": "stdout",
          "output_type": "stream",
          "text": [
            "<class 'pandas.core.frame.DataFrame'>\n",
            "Int64Index: 2000 entries, 1 to 2000\n",
            "Data columns (total 5 columns):\n",
            " #   Column   Non-Null Count  Dtype  \n",
            "---  ------   --------------  -----  \n",
            " 0   race     2000 non-null   object \n",
            " 1   age      2000 non-null   int64  \n",
            " 2   educate  2000 non-null   float64\n",
            " 3   income   2000 non-null   float64\n",
            " 4   vote     2000 non-null   int64  \n",
            "dtypes: float64(2), int64(2), object(1)\n",
            "memory usage: 93.8+ KB\n"
          ]
        }
      ],
      "source": [
        "#menampilkan deskripsi data\n",
        "df.info()"
      ]
    },
    {
      "attachments": {},
      "cell_type": "markdown",
      "metadata": {
        "id": "6L1lSE4S7yoa"
      },
      "source": [
        "melihat info dari dataset, yaitu terdiri dari 2000 data non null dengan tipe data bervariasi yang bisa dilihat pada tabel Dtype."
      ]
    },
    {
      "attachments": {},
      "cell_type": "markdown",
      "metadata": {
        "id": "6gVB31Dqx0MT"
      },
      "source": [
        "**SPLIT DATA**"
      ]
    },
    {
      "cell_type": "code",
      "execution_count": 14,
      "metadata": {
        "id": "q5jxQ9W-xY70"
      },
      "outputs": [],
      "source": [
        "#mengimport library untuk splitting data\n",
        "from sklearn.model_selection import train_test_split"
      ]
    },
    {
      "cell_type": "code",
      "execution_count": 15,
      "metadata": {
        "id": "og4fQy36xtAc"
      },
      "outputs": [],
      "source": [
        "#melakukan splitting data dengan test size 30% dan random statenya 0\n",
        "x = df[['age', 'income', 'vote']]\n",
        "y = df['educate']\n",
        "\n",
        "x_train, x_test, y_train, y_test = train_test_split(x, y,test_size = 0.3,random_state = 0)"
      ]
    },
    {
      "attachments": {},
      "cell_type": "markdown",
      "metadata": {
        "id": "nodzfPhlyt5s"
      },
      "source": [
        "\n",
        "**TRAIN & TEST MODEL**"
      ]
    },
    {
      "cell_type": "code",
      "execution_count": 16,
      "metadata": {
        "id": "rFKNmGWPycPy"
      },
      "outputs": [],
      "source": [
        "#mengimport library model KNN\n",
        "from sklearn.neighbors import KNeighborsRegressor"
      ]
    },
    {
      "cell_type": "code",
      "execution_count": 17,
      "metadata": {
        "colab": {
          "base_uri": "https://localhost:8080/",
          "height": 75
        },
        "id": "5K-k1vany6Mv",
        "outputId": "540d2808-8e13-4bbb-87b7-6a4c7a47ed1d"
      },
      "outputs": [
        {
          "data": {
            "text/html": [
              "<style>#sk-container-id-1 {color: black;background-color: white;}#sk-container-id-1 pre{padding: 0;}#sk-container-id-1 div.sk-toggleable {background-color: white;}#sk-container-id-1 label.sk-toggleable__label {cursor: pointer;display: block;width: 100%;margin-bottom: 0;padding: 0.3em;box-sizing: border-box;text-align: center;}#sk-container-id-1 label.sk-toggleable__label-arrow:before {content: \"▸\";float: left;margin-right: 0.25em;color: #696969;}#sk-container-id-1 label.sk-toggleable__label-arrow:hover:before {color: black;}#sk-container-id-1 div.sk-estimator:hover label.sk-toggleable__label-arrow:before {color: black;}#sk-container-id-1 div.sk-toggleable__content {max-height: 0;max-width: 0;overflow: hidden;text-align: left;background-color: #f0f8ff;}#sk-container-id-1 div.sk-toggleable__content pre {margin: 0.2em;color: black;border-radius: 0.25em;background-color: #f0f8ff;}#sk-container-id-1 input.sk-toggleable__control:checked~div.sk-toggleable__content {max-height: 200px;max-width: 100%;overflow: auto;}#sk-container-id-1 input.sk-toggleable__control:checked~label.sk-toggleable__label-arrow:before {content: \"▾\";}#sk-container-id-1 div.sk-estimator input.sk-toggleable__control:checked~label.sk-toggleable__label {background-color: #d4ebff;}#sk-container-id-1 div.sk-label input.sk-toggleable__control:checked~label.sk-toggleable__label {background-color: #d4ebff;}#sk-container-id-1 input.sk-hidden--visually {border: 0;clip: rect(1px 1px 1px 1px);clip: rect(1px, 1px, 1px, 1px);height: 1px;margin: -1px;overflow: hidden;padding: 0;position: absolute;width: 1px;}#sk-container-id-1 div.sk-estimator {font-family: monospace;background-color: #f0f8ff;border: 1px dotted black;border-radius: 0.25em;box-sizing: border-box;margin-bottom: 0.5em;}#sk-container-id-1 div.sk-estimator:hover {background-color: #d4ebff;}#sk-container-id-1 div.sk-parallel-item::after {content: \"\";width: 100%;border-bottom: 1px solid gray;flex-grow: 1;}#sk-container-id-1 div.sk-label:hover label.sk-toggleable__label {background-color: #d4ebff;}#sk-container-id-1 div.sk-serial::before {content: \"\";position: absolute;border-left: 1px solid gray;box-sizing: border-box;top: 0;bottom: 0;left: 50%;z-index: 0;}#sk-container-id-1 div.sk-serial {display: flex;flex-direction: column;align-items: center;background-color: white;padding-right: 0.2em;padding-left: 0.2em;position: relative;}#sk-container-id-1 div.sk-item {position: relative;z-index: 1;}#sk-container-id-1 div.sk-parallel {display: flex;align-items: stretch;justify-content: center;background-color: white;position: relative;}#sk-container-id-1 div.sk-item::before, #sk-container-id-1 div.sk-parallel-item::before {content: \"\";position: absolute;border-left: 1px solid gray;box-sizing: border-box;top: 0;bottom: 0;left: 50%;z-index: -1;}#sk-container-id-1 div.sk-parallel-item {display: flex;flex-direction: column;z-index: 1;position: relative;background-color: white;}#sk-container-id-1 div.sk-parallel-item:first-child::after {align-self: flex-end;width: 50%;}#sk-container-id-1 div.sk-parallel-item:last-child::after {align-self: flex-start;width: 50%;}#sk-container-id-1 div.sk-parallel-item:only-child::after {width: 0;}#sk-container-id-1 div.sk-dashed-wrapped {border: 1px dashed gray;margin: 0 0.4em 0.5em 0.4em;box-sizing: border-box;padding-bottom: 0.4em;background-color: white;}#sk-container-id-1 div.sk-label label {font-family: monospace;font-weight: bold;display: inline-block;line-height: 1.2em;}#sk-container-id-1 div.sk-label-container {text-align: center;}#sk-container-id-1 div.sk-container {/* jupyter's `normalize.less` sets `[hidden] { display: none; }` but bootstrap.min.css set `[hidden] { display: none !important; }` so we also need the `!important` here to be able to override the default hidden behavior on the sphinx rendered scikit-learn.org. See: https://github.com/scikit-learn/scikit-learn/issues/21755 */display: inline-block !important;position: relative;}#sk-container-id-1 div.sk-text-repr-fallback {display: none;}</style><div id=\"sk-container-id-1\" class=\"sk-top-container\"><div class=\"sk-text-repr-fallback\"><pre>KNeighborsRegressor(n_neighbors=11)</pre><b>In a Jupyter environment, please rerun this cell to show the HTML representation or trust the notebook. <br />On GitHub, the HTML representation is unable to render, please try loading this page with nbviewer.org.</b></div><div class=\"sk-container\" hidden><div class=\"sk-item\"><div class=\"sk-estimator sk-toggleable\"><input class=\"sk-toggleable__control sk-hidden--visually\" id=\"sk-estimator-id-1\" type=\"checkbox\" checked><label for=\"sk-estimator-id-1\" class=\"sk-toggleable__label sk-toggleable__label-arrow\">KNeighborsRegressor</label><div class=\"sk-toggleable__content\"><pre>KNeighborsRegressor(n_neighbors=11)</pre></div></div></div></div></div>"
            ],
            "text/plain": [
              "KNeighborsRegressor(n_neighbors=11)"
            ]
          },
          "execution_count": 17,
          "metadata": {},
          "output_type": "execute_result"
        }
      ],
      "source": [
        "#menggunakan training model dengan k = 11\n",
        "knn_r = KNeighborsRegressor(n_neighbors = 11)\n",
        "\n",
        "#fitting data \n",
        "knn_r.fit(x_train, y_train)"
      ]
    },
    {
      "cell_type": "code",
      "execution_count": 18,
      "metadata": {
        "id": "TcWViWAKzE50"
      },
      "outputs": [],
      "source": [
        "#melakukan prediksi \n",
        "y_pred = knn_r.predict(x_test)"
      ]
    },
    {
      "attachments": {},
      "cell_type": "markdown",
      "metadata": {
        "id": "prZJinxSzfR_"
      },
      "source": [
        "**EVALUASI MODEL**"
      ]
    },
    {
      "cell_type": "code",
      "execution_count": 19,
      "metadata": {
        "colab": {
          "base_uri": "https://localhost:8080/",
          "height": 0
        },
        "id": "LKgTonV5zdwn",
        "outputId": "6408e80e-08fd-46f7-8c94-fd89557e359e"
      },
      "outputs": [
        {
          "name": "stdout",
          "output_type": "stream",
          "text": [
            "MSE:  9.241401515151516\n",
            "RMSE:  3.039967354290423\n",
            "R squared score:  0.20888002472242495\n",
            "MAE:  2.3511363636363636\n"
          ]
        }
      ],
      "source": [
        "#mengimport library untuk melihat akurasi data\n",
        "from sklearn.metrics import mean_squared_error, r2_score, mean_absolute_error\n",
        "\n",
        "#mean squared error (MSE)\n",
        "#digunakan untuk mengevaluasi estimasi jumlah kesalahan pada prediksi \n",
        "#semakin rendah MSE maka akan semakin bagus\n",
        "\n",
        "mse = mean_squared_error(y_test, y_pred)\n",
        "print(\"MSE: \", mse)\n",
        "\n",
        "#root mean squared error (RMSE)\n",
        "#digunakan untuk melihat selisih kuadrat antara nilai prediksi dan nilai sebenarnya\n",
        "#semakin rendah RMSE maka akan semakin bagus \n",
        "\n",
        "rmse = np.sqrt(mse)\n",
        "print(\"RMSE: \", rmse)\n",
        "\n",
        "#R-squared score atau koefisien determinasi\n",
        "#nilai yg digunakan untuk menjelaskan seberapa kuat variabel prediktor menjelaskan variabel respons\n",
        "#ketika R-squared semakin mendekati 100%, maka model semakin bagus\n",
        "\n",
        "r2 = r2_score(y_test, y_pred)\n",
        "print(\"R squared score: \", r2)\n",
        "\n",
        "#mean absolute error (MAE)\n",
        "#digunakan untuk menghitung kesalahan guna evaluasi model\n",
        "\n",
        "mae = mean_absolute_error(y_test, y_pred)\n",
        "print(\"MAE: \", mae)"
      ]
    },
    {
      "attachments": {},
      "cell_type": "markdown",
      "metadata": {
        "id": "6MIsLme19lox"
      },
      "source": [
        "setelah dilakukan modelling, telah didapatkan nilai MSE = 9.247, RMSE = 3.04, R-Squared = 0.208, dam MAE = 2.35. \n",
        "\n",
        "Dari hasil tersebut, dapat kita simpulkan bahwa model KNN kurang baik digunakan untuk memprediksi dataset. \n",
        "\n",
        "hal tersebut dapat disebabkan oleh nilai k yang dipilih kurang sesuai.\n"
      ]
    },
    {
      "attachments": {},
      "cell_type": "markdown",
      "metadata": {
        "id": "XoJH-oXQ1led"
      },
      "source": [
        "**MENCARI k TERBAIK SECARA MANUAL**"
      ]
    },
    {
      "cell_type": "code",
      "execution_count": 20,
      "metadata": {
        "colab": {
          "base_uri": "https://localhost:8080/",
          "height": 0
        },
        "id": "4rQwm9nK0UcF",
        "outputId": "2a8fafc5-fbc6-4577-b8ab-d4241ffb9551"
      },
      "outputs": [
        {
          "name": "stdout",
          "output_type": "stream",
          "text": [
            "n-neighbors: 1, MSE: 16.899166666666666\n",
            "n-neighbors: 2, MSE: 12.500625\n",
            "n-neighbors: 3, MSE: 10.752037037037038\n",
            "n-neighbors: 4, MSE: 10.634973958333333\n",
            "n-neighbors: 5, MSE: 10.194749999999999\n",
            "n-neighbors: 6, MSE: 9.788194444444443\n",
            "n-neighbors: 7, MSE: 9.725459183673468\n",
            "n-neighbors: 8, MSE: 9.421959635416666\n",
            "n-neighbors: 9, MSE: 9.316409465020575\n",
            "n-neighbors: 10, MSE: 9.269520833333333\n",
            "n-neighbors: 11, MSE: 9.241401515151516\n",
            "n-neighbors: 12, MSE: 9.292149884259258\n",
            "n-neighbors: 13, MSE: 9.240419132149901\n",
            "n-neighbors: 14, MSE: 9.189143282312925\n",
            "n-neighbors: 15, MSE: 9.129885185185184\n",
            "n-neighbors: 16, MSE: 9.1114306640625\n",
            "n-neighbors: 17, MSE: 9.053675028835062\n",
            "n-neighbors: 18, MSE: 9.021100823045268\n",
            "n-neighbors: 19, MSE: 9.005837950138506\n",
            "n-neighbors: 20, MSE: 8.987446875\n",
            "n-neighbors: 21, MSE: 8.923133975812545\n",
            "n-neighbors: 22, MSE: 8.893726756198346\n",
            "n-neighbors: 23, MSE: 8.931606017643352\n",
            "n-neighbors: 24, MSE: 8.901488715277779\n",
            "n-neighbors: 25, MSE: 8.904122666666666\n",
            "n-neighbors: 26, MSE: 8.815838264299803\n",
            "n-neighbors: 27, MSE: 8.828928898033837\n",
            "n-neighbors: 28, MSE: 8.80983099489796\n",
            "n-neighbors: 29, MSE: 8.767995937376138\n",
            "n-neighbors: 30, MSE: 8.777134259259258\n",
            "n-neighbors: 31, MSE: 8.744676985778703\n",
            "n-neighbors: 32, MSE: 8.728697102864583\n"
          ]
        },
        {
          "name": "stdout",
          "output_type": "stream",
          "text": [
            "n-neighbors: 33, MSE: 8.708532292623202\n",
            "n-neighbors: 34, MSE: 8.735578503460207\n",
            "n-neighbors: 35, MSE: 8.727983333333334\n",
            "n-neighbors: 36, MSE: 8.762283950617284\n",
            "n-neighbors: 37, MSE: 8.74354516678841\n",
            "n-neighbors: 38, MSE: 8.737972933979687\n",
            "n-neighbors: 39, MSE: 8.711519285557747\n",
            "n-neighbors: 40, MSE: 8.727104947916667\n",
            "n-neighbors: 41, MSE: 8.766081945270672\n",
            "n-neighbors: 42, MSE: 8.774124149659865\n",
            "n-neighbors: 43, MSE: 8.768846673877771\n",
            "n-neighbors: 44, MSE: 8.776396565082644\n",
            "n-neighbors: 45, MSE: 8.750761111111112\n",
            "n-neighbors: 46, MSE: 8.757528355387524\n",
            "n-neighbors: 47, MSE: 8.75104968311453\n",
            "n-neighbors: 48, MSE: 8.77841796875\n",
            "n-neighbors: 49, MSE: 8.819627238650561\n",
            "n-neighbors: 50, MSE: 8.843686166666666\n"
          ]
        }
      ],
      "source": [
        "#list kosong untuk mse dan k\n",
        "mse_val = []\n",
        "k = []\n",
        "\n",
        "#looping untuk train model dg k 1-50\n",
        "#lalu hasilnya akan disimpan ke list kosong di atas dan di training dan diprediksi\n",
        "for i in range (1, 51):\n",
        "  k.append(i) \n",
        "  knn_r = KNeighborsRegressor(i) \n",
        "  knn_r.fit(x_train, y_train)\n",
        "\n",
        "  y_pred = knn_r.predict(x_test) \n",
        "  mse = mean_squared_error(y_test, y_pred) \n",
        "  mse_val.append(mse) \n",
        "\n",
        "  print(\"n-neighbors: \" + str(i) + \", MSE: \" +str(mse))"
      ]
    },
    {
      "cell_type": "code",
      "execution_count": 21,
      "metadata": {
        "colab": {
          "base_uri": "https://localhost:8080/",
          "height": 489
        },
        "id": "Y649OhZg3kqa",
        "outputId": "a7f5a325-e109-43ee-8778-a17c9dd71318"
      },
      "outputs": [
        {
          "data": {
            "text/plain": [
              "Text(0.5, 1.0, 'MSE vs k')"
            ]
          },
          "execution_count": 21,
          "metadata": {},
          "output_type": "execute_result"
        },
        {
          "data": {
            "image/png": "[encoded data removed]",
            "text/plain": [
              "<Figure size 432x288 with 1 Axes>"
            ]
          },
          "metadata": {
            "needs_background": "light"
          },
          "output_type": "display_data"
        }
      ],
      "source": [
        "#visualisasi hasil mse dan k \n",
        "plt.plot(k, mse_val)\n",
        "plt.xlabel(\"n_neighbor(k)\")\n",
        "plt.ylabel(\"MSE\")\n",
        "plt.title(\"MSE vs k\")"
      ]
    },
    {
      "attachments": {},
      "cell_type": "markdown",
      "metadata": {
        "id": "KYYFIdgE-iew"
      },
      "source": [
        "pada grafik diatas dapat kita lihat bahwa nilai MSE mengalami penurunan yang signifikan ketika k berada disekitar interval 1-10.\n",
        "\n",
        "sehingga telah kita dapatkan nilai k terbaik yaitu berada pada k =49 dengan nilai MSE sebesar 8.15"
      ]
    }
  ],
  "metadata": {
    "colab": {
      "provenance": []
    },
    "kernelspec": {
      "display_name": "Python 3",
      "name": "python3"
    },
    "language_info": {
      "codemirror_mode": {
        "name": "ipython",
        "version": 3
      },
      "file_extension": ".py",
      "mimetype": "text/x-python",
      "name": "python",
      "nbconvert_exporter": "python",
      "pygments_lexer": "ipython3",
      "version": "3.10.0"
    }
  },
  "nbformat": 4,
  "nbformat_minor": 0
}

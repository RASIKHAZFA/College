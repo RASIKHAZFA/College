{
  "cells": [
    {
      "cell_type": "code",
      "execution_count": 3,
      "metadata": {
        "id": "HNc8NGLealKO"
      },
      "outputs": [],
      "source": [
        "#mengimport library yang dibutuhkan\n",
        "import numpy as np\n",
        "import pandas as pd\n",
        "import seaborn as sns\n",
        "import matplotlib.pyplot as plt\n"
      ]
    },
    {
      "cell_type": "code",
      "execution_count": 4,
      "metadata": {
        "colab": {
          "base_uri": "https://localhost:8080/",
          "height": 206
        },
        "id": "3AokRC09a5x-",
        "outputId": "d8758898-d0a6-435e-8f7a-da39df2f3fd2"
      },
      "outputs": [
        {
          "data": {
            "text/html": [
              "<div>\n",
              "<style scoped>\n",
              "    .dataframe tbody tr th:only-of-type {\n",
              "        vertical-align: middle;\n",
              "    }\n",
              "\n",
              "    .dataframe tbody tr th {\n",
              "        vertical-align: top;\n",
              "    }\n",
              "\n",
              "    .dataframe thead th {\n",
              "        text-align: right;\n",
              "    }\n",
              "</style>\n",
              "<table border=\"1\" class=\"dataframe\">\n",
              "  <thead>\n",
              "    <tr style=\"text-align: right;\">\n",
              "      <th></th>\n",
              "      <th>Umur</th>\n",
              "      <th>Pemasukan</th>\n",
              "      <th>Keluarga</th>\n",
              "      <th>Edukasi</th>\n",
              "      <th>Hipotek</th>\n",
              "      <th>Pinjaman Pribadi</th>\n",
              "      <th>Rekening Efek</th>\n",
              "      <th>Sertifikat Deposito</th>\n",
              "      <th>Online</th>\n",
              "      <th>Kartu Kredit</th>\n",
              "    </tr>\n",
              "  </thead>\n",
              "  <tbody>\n",
              "    <tr>\n",
              "      <th>0</th>\n",
              "      <td>35</td>\n",
              "      <td>81</td>\n",
              "      <td>3</td>\n",
              "      <td>2</td>\n",
              "      <td>104</td>\n",
              "      <td>0</td>\n",
              "      <td>0</td>\n",
              "      <td>0</td>\n",
              "      <td>1</td>\n",
              "      <td>0</td>\n",
              "    </tr>\n",
              "    <tr>\n",
              "      <th>1</th>\n",
              "      <td>34</td>\n",
              "      <td>180</td>\n",
              "      <td>1</td>\n",
              "      <td>3</td>\n",
              "      <td>0</td>\n",
              "      <td>1</td>\n",
              "      <td>0</td>\n",
              "      <td>0</td>\n",
              "      <td>0</td>\n",
              "      <td>0</td>\n",
              "    </tr>\n",
              "    <tr>\n",
              "      <th>2</th>\n",
              "      <td>38</td>\n",
              "      <td>130</td>\n",
              "      <td>4</td>\n",
              "      <td>3</td>\n",
              "      <td>134</td>\n",
              "      <td>1</td>\n",
              "      <td>0</td>\n",
              "      <td>0</td>\n",
              "      <td>0</td>\n",
              "      <td>0</td>\n",
              "    </tr>\n",
              "    <tr>\n",
              "      <th>3</th>\n",
              "      <td>46</td>\n",
              "      <td>193</td>\n",
              "      <td>2</td>\n",
              "      <td>3</td>\n",
              "      <td>0</td>\n",
              "      <td>1</td>\n",
              "      <td>0</td>\n",
              "      <td>0</td>\n",
              "      <td>0</td>\n",
              "      <td>0</td>\n",
              "    </tr>\n",
              "    <tr>\n",
              "      <th>4</th>\n",
              "      <td>56</td>\n",
              "      <td>25</td>\n",
              "      <td>4</td>\n",
              "      <td>2</td>\n",
              "      <td>111</td>\n",
              "      <td>0</td>\n",
              "      <td>0</td>\n",
              "      <td>0</td>\n",
              "      <td>1</td>\n",
              "      <td>0</td>\n",
              "    </tr>\n",
              "  </tbody>\n",
              "</table>\n",
              "</div>"
            ],
            "text/plain": [
              "   Umur  Pemasukan  Keluarga  Edukasi  Hipotek  Pinjaman Pribadi  \\\n",
              "0    35         81         3        2      104                 0   \n",
              "1    34        180         1        3        0                 1   \n",
              "2    38        130         4        3      134                 1   \n",
              "3    46        193         2        3        0                 1   \n",
              "4    56         25         4        2      111                 0   \n",
              "\n",
              "   Rekening Efek  Sertifikat Deposito  Online  Kartu Kredit  \n",
              "0              0                    0       1             0  \n",
              "1              0                    0       0             0  \n",
              "2              0                    0       0             0  \n",
              "3              0                    0       0             0  \n",
              "4              0                    0       1             0  "
            ]
          },
          "execution_count": 4,
          "metadata": {},
          "output_type": "execute_result"
        }
      ],
      "source": [
        "#mengimport data dan menampilkannya\n",
        "data = pd.read_csv('D:\\CODING\\PROJECT\\COLLEGE\\DATA\\data_pinjaman.csv')\n",
        "data.head()"
      ]
    },
    {
      "cell_type": "code",
      "execution_count": 5,
      "metadata": {
        "colab": {
          "base_uri": "https://localhost:8080/",
          "height": 0
        },
        "id": "D35cn-rSbN0C",
        "outputId": "9073a668-0c70-4170-ef11-27632f5e692e"
      },
      "outputs": [
        {
          "name": "stdout",
          "output_type": "stream",
          "text": [
            "<class 'pandas.core.frame.DataFrame'>\n",
            "RangeIndex: 960 entries, 0 to 959\n",
            "Data columns (total 10 columns):\n",
            " #   Column               Non-Null Count  Dtype\n",
            "---  ------               --------------  -----\n",
            " 0   Umur                 960 non-null    int64\n",
            " 1   Pemasukan            960 non-null    int64\n",
            " 2   Keluarga             960 non-null    int64\n",
            " 3   Edukasi              960 non-null    int64\n",
            " 4   Hipotek              960 non-null    int64\n",
            " 5   Pinjaman Pribadi     960 non-null    int64\n",
            " 6   Rekening Efek        960 non-null    int64\n",
            " 7   Sertifikat Deposito  960 non-null    int64\n",
            " 8   Online               960 non-null    int64\n",
            " 9   Kartu Kredit         960 non-null    int64\n",
            "dtypes: int64(10)\n",
            "memory usage: 75.1 KB\n"
          ]
        }
      ],
      "source": [
        "#melihat informasi data dan ternyata tidak ada null\n",
        "data.info()"
      ]
    },
    {
      "cell_type": "code",
      "execution_count": 6,
      "metadata": {
        "colab": {
          "base_uri": "https://localhost:8080/",
          "height": 344
        },
        "id": "EZSj-3xPbG7T",
        "outputId": "519740f7-45d6-4ebd-a59b-e90ffd23d33e"
      },
      "outputs": [
        {
          "data": {
            "text/html": [
              "<div>\n",
              "<style scoped>\n",
              "    .dataframe tbody tr th:only-of-type {\n",
              "        vertical-align: middle;\n",
              "    }\n",
              "\n",
              "    .dataframe tbody tr th {\n",
              "        vertical-align: top;\n",
              "    }\n",
              "\n",
              "    .dataframe thead th {\n",
              "        text-align: right;\n",
              "    }\n",
              "</style>\n",
              "<table border=\"1\" class=\"dataframe\">\n",
              "  <thead>\n",
              "    <tr style=\"text-align: right;\">\n",
              "      <th></th>\n",
              "      <th>Umur</th>\n",
              "      <th>Pemasukan</th>\n",
              "      <th>Keluarga</th>\n",
              "      <th>Edukasi</th>\n",
              "      <th>Hipotek</th>\n",
              "      <th>Pinjaman Pribadi</th>\n",
              "      <th>Rekening Efek</th>\n",
              "      <th>Sertifikat Deposito</th>\n",
              "      <th>Online</th>\n",
              "      <th>Kartu Kredit</th>\n",
              "    </tr>\n",
              "  </thead>\n",
              "  <tbody>\n",
              "    <tr>\n",
              "      <th>count</th>\n",
              "      <td>960.000000</td>\n",
              "      <td>960.000000</td>\n",
              "      <td>960.000000</td>\n",
              "      <td>960.000000</td>\n",
              "      <td>960.000000</td>\n",
              "      <td>960.000000</td>\n",
              "      <td>960.000000</td>\n",
              "      <td>960.000000</td>\n",
              "      <td>960.000000</td>\n",
              "      <td>960.000000</td>\n",
              "    </tr>\n",
              "    <tr>\n",
              "      <th>mean</th>\n",
              "      <td>45.308333</td>\n",
              "      <td>105.629167</td>\n",
              "      <td>2.492708</td>\n",
              "      <td>2.058333</td>\n",
              "      <td>75.584375</td>\n",
              "      <td>0.500000</td>\n",
              "      <td>0.112500</td>\n",
              "      <td>0.164583</td>\n",
              "      <td>0.600000</td>\n",
              "      <td>0.286458</td>\n",
              "    </tr>\n",
              "    <tr>\n",
              "      <th>std</th>\n",
              "      <td>11.660059</td>\n",
              "      <td>53.940530</td>\n",
              "      <td>1.154376</td>\n",
              "      <td>0.812271</td>\n",
              "      <td>132.366844</td>\n",
              "      <td>0.500261</td>\n",
              "      <td>0.316145</td>\n",
              "      <td>0.370997</td>\n",
              "      <td>0.490153</td>\n",
              "      <td>0.452342</td>\n",
              "    </tr>\n",
              "    <tr>\n",
              "      <th>min</th>\n",
              "      <td>23.000000</td>\n",
              "      <td>9.000000</td>\n",
              "      <td>1.000000</td>\n",
              "      <td>1.000000</td>\n",
              "      <td>0.000000</td>\n",
              "      <td>0.000000</td>\n",
              "      <td>0.000000</td>\n",
              "      <td>0.000000</td>\n",
              "      <td>0.000000</td>\n",
              "      <td>0.000000</td>\n",
              "    </tr>\n",
              "    <tr>\n",
              "      <th>25%</th>\n",
              "      <td>35.000000</td>\n",
              "      <td>55.000000</td>\n",
              "      <td>1.000000</td>\n",
              "      <td>1.000000</td>\n",
              "      <td>0.000000</td>\n",
              "      <td>0.000000</td>\n",
              "      <td>0.000000</td>\n",
              "      <td>0.000000</td>\n",
              "      <td>0.000000</td>\n",
              "      <td>0.000000</td>\n",
              "    </tr>\n",
              "    <tr>\n",
              "      <th>50%</th>\n",
              "      <td>45.000000</td>\n",
              "      <td>111.000000</td>\n",
              "      <td>3.000000</td>\n",
              "      <td>2.000000</td>\n",
              "      <td>0.000000</td>\n",
              "      <td>0.500000</td>\n",
              "      <td>0.000000</td>\n",
              "      <td>0.000000</td>\n",
              "      <td>1.000000</td>\n",
              "      <td>0.000000</td>\n",
              "    </tr>\n",
              "    <tr>\n",
              "      <th>75%</th>\n",
              "      <td>55.000000</td>\n",
              "      <td>152.250000</td>\n",
              "      <td>4.000000</td>\n",
              "      <td>3.000000</td>\n",
              "      <td>118.250000</td>\n",
              "      <td>1.000000</td>\n",
              "      <td>0.000000</td>\n",
              "      <td>0.000000</td>\n",
              "      <td>1.000000</td>\n",
              "      <td>1.000000</td>\n",
              "    </tr>\n",
              "    <tr>\n",
              "      <th>max</th>\n",
              "      <td>66.000000</td>\n",
              "      <td>203.000000</td>\n",
              "      <td>4.000000</td>\n",
              "      <td>3.000000</td>\n",
              "      <td>617.000000</td>\n",
              "      <td>1.000000</td>\n",
              "      <td>1.000000</td>\n",
              "      <td>1.000000</td>\n",
              "      <td>1.000000</td>\n",
              "      <td>1.000000</td>\n",
              "    </tr>\n",
              "  </tbody>\n",
              "</table>\n",
              "</div>"
            ],
            "text/plain": [
              "             Umur   Pemasukan    Keluarga     Edukasi     Hipotek  \\\n",
              "count  960.000000  960.000000  960.000000  960.000000  960.000000   \n",
              "mean    45.308333  105.629167    2.492708    2.058333   75.584375   \n",
              "std     11.660059   53.940530    1.154376    0.812271  132.366844   \n",
              "min     23.000000    9.000000    1.000000    1.000000    0.000000   \n",
              "25%     35.000000   55.000000    1.000000    1.000000    0.000000   \n",
              "50%     45.000000  111.000000    3.000000    2.000000    0.000000   \n",
              "75%     55.000000  152.250000    4.000000    3.000000  118.250000   \n",
              "max     66.000000  203.000000    4.000000    3.000000  617.000000   \n",
              "\n",
              "       Pinjaman Pribadi  Rekening Efek  Sertifikat Deposito      Online  \\\n",
              "count        960.000000     960.000000           960.000000  960.000000   \n",
              "mean           0.500000       0.112500             0.164583    0.600000   \n",
              "std            0.500261       0.316145             0.370997    0.490153   \n",
              "min            0.000000       0.000000             0.000000    0.000000   \n",
              "25%            0.000000       0.000000             0.000000    0.000000   \n",
              "50%            0.500000       0.000000             0.000000    1.000000   \n",
              "75%            1.000000       0.000000             0.000000    1.000000   \n",
              "max            1.000000       1.000000             1.000000    1.000000   \n",
              "\n",
              "       Kartu Kredit  \n",
              "count    960.000000  \n",
              "mean       0.286458  \n",
              "std        0.452342  \n",
              "min        0.000000  \n",
              "25%        0.000000  \n",
              "50%        0.000000  \n",
              "75%        1.000000  \n",
              "max        1.000000  "
            ]
          },
          "execution_count": 6,
          "metadata": {},
          "output_type": "execute_result"
        }
      ],
      "source": [
        "#melihat informasi data secara statistik\n",
        "data.describe()"
      ]
    },
    {
      "cell_type": "code",
      "execution_count": 7,
      "metadata": {
        "colab": {
          "base_uri": "https://localhost:8080/",
          "height": 206
        },
        "id": "dnHGnp4TbWVh",
        "outputId": "d7f1e7bf-68a0-432d-ea39-58cb5358a49b"
      },
      "outputs": [
        {
          "data": {
            "text/html": [
              "<div>\n",
              "<style scoped>\n",
              "    .dataframe tbody tr th:only-of-type {\n",
              "        vertical-align: middle;\n",
              "    }\n",
              "\n",
              "    .dataframe tbody tr th {\n",
              "        vertical-align: top;\n",
              "    }\n",
              "\n",
              "    .dataframe thead th {\n",
              "        text-align: right;\n",
              "    }\n",
              "</style>\n",
              "<table border=\"1\" class=\"dataframe\">\n",
              "  <thead>\n",
              "    <tr style=\"text-align: right;\">\n",
              "      <th></th>\n",
              "      <th>Umur</th>\n",
              "      <th>Pemasukan</th>\n",
              "      <th>Keluarga</th>\n",
              "      <th>Edukasi</th>\n",
              "      <th>Hipotek</th>\n",
              "      <th>Rekening Efek</th>\n",
              "      <th>Sertifikat Deposito</th>\n",
              "      <th>Online</th>\n",
              "      <th>Kartu Kredit</th>\n",
              "      <th>Pinjaman Pribadi</th>\n",
              "    </tr>\n",
              "  </thead>\n",
              "  <tbody>\n",
              "    <tr>\n",
              "      <th>0</th>\n",
              "      <td>35</td>\n",
              "      <td>81</td>\n",
              "      <td>3</td>\n",
              "      <td>2</td>\n",
              "      <td>104</td>\n",
              "      <td>0</td>\n",
              "      <td>0</td>\n",
              "      <td>1</td>\n",
              "      <td>0</td>\n",
              "      <td>0</td>\n",
              "    </tr>\n",
              "    <tr>\n",
              "      <th>1</th>\n",
              "      <td>34</td>\n",
              "      <td>180</td>\n",
              "      <td>1</td>\n",
              "      <td>3</td>\n",
              "      <td>0</td>\n",
              "      <td>0</td>\n",
              "      <td>0</td>\n",
              "      <td>0</td>\n",
              "      <td>0</td>\n",
              "      <td>1</td>\n",
              "    </tr>\n",
              "    <tr>\n",
              "      <th>2</th>\n",
              "      <td>38</td>\n",
              "      <td>130</td>\n",
              "      <td>4</td>\n",
              "      <td>3</td>\n",
              "      <td>134</td>\n",
              "      <td>0</td>\n",
              "      <td>0</td>\n",
              "      <td>0</td>\n",
              "      <td>0</td>\n",
              "      <td>1</td>\n",
              "    </tr>\n",
              "    <tr>\n",
              "      <th>3</th>\n",
              "      <td>46</td>\n",
              "      <td>193</td>\n",
              "      <td>2</td>\n",
              "      <td>3</td>\n",
              "      <td>0</td>\n",
              "      <td>0</td>\n",
              "      <td>0</td>\n",
              "      <td>0</td>\n",
              "      <td>0</td>\n",
              "      <td>1</td>\n",
              "    </tr>\n",
              "    <tr>\n",
              "      <th>4</th>\n",
              "      <td>56</td>\n",
              "      <td>25</td>\n",
              "      <td>4</td>\n",
              "      <td>2</td>\n",
              "      <td>111</td>\n",
              "      <td>0</td>\n",
              "      <td>0</td>\n",
              "      <td>1</td>\n",
              "      <td>0</td>\n",
              "      <td>0</td>\n",
              "    </tr>\n",
              "  </tbody>\n",
              "</table>\n",
              "</div>"
            ],
            "text/plain": [
              "   Umur  Pemasukan  Keluarga  Edukasi  Hipotek  Rekening Efek  \\\n",
              "0    35         81         3        2      104              0   \n",
              "1    34        180         1        3        0              0   \n",
              "2    38        130         4        3      134              0   \n",
              "3    46        193         2        3        0              0   \n",
              "4    56         25         4        2      111              0   \n",
              "\n",
              "   Sertifikat Deposito  Online  Kartu Kredit  Pinjaman Pribadi  \n",
              "0                    0       1             0                 0  \n",
              "1                    0       0             0                 1  \n",
              "2                    0       0             0                 1  \n",
              "3                    0       0             0                 1  \n",
              "4                    0       1             0                 0  "
            ]
          },
          "execution_count": 7,
          "metadata": {},
          "output_type": "execute_result"
        }
      ],
      "source": [
        "#memindahan kolom pinjaman pribadi ke paling kanan\n",
        "pinjaman = data.pop('Pinjaman Pribadi')\n",
        "data.insert(len(data.columns),'Pinjaman Pribadi', pinjaman)\n",
        "data.head()"
      ]
    },
    {
      "cell_type": "code",
      "execution_count": 8,
      "metadata": {
        "id": "PGk8PGf9c4qW"
      },
      "outputs": [],
      "source": [
        "#memisahkan data independent dan dependent\n",
        "x = data.iloc[:,:-1]\n",
        "y = data.iloc[:,-1]"
      ]
    },
    {
      "cell_type": "code",
      "execution_count": 9,
      "metadata": {
        "id": "Dk-FloUYdrPz"
      },
      "outputs": [],
      "source": [
        "#melakukan train test split data dengan test size 25%\n",
        "from sklearn.model_selection import train_test_split\n",
        "\n",
        "xtrain,xtest,ytrain,ytest = train_test_split(x,y,test_size = 0.25,random_state = 42)"
      ]
    },
    {
      "cell_type": "code",
      "execution_count": 10,
      "metadata": {
        "id": "BtzBRLckeSuz"
      },
      "outputs": [],
      "source": [
        "#melakukan scaling pada data\n",
        "from sklearn.preprocessing import StandardScaler\n",
        "scx = StandardScaler()\n",
        "\n",
        "xtrain = scx.fit_transform(xtrain)\n",
        "\n",
        "xtest = scx.transform(xtest)\n"
      ]
    },
    {
      "attachments": {},
      "cell_type": "markdown",
      "metadata": {
        "id": "sXwXFrp51YPP"
      },
      "source": [
        "# BERNOULLI"
      ]
    },
    {
      "cell_type": "code",
      "execution_count": 11,
      "metadata": {
        "id": "BAuRmD_UidKS"
      },
      "outputs": [],
      "source": [
        "#mengimport model bernoulli\n",
        "from sklearn.naive_bayes import BernoulliNB\n",
        "\n",
        "classifier_bern = BernoulliNB()\n",
        "\n",
        "#training model\n",
        "classifier_bern.fit(xtrain, ytrain)\n",
        "\n",
        "#testing model\n",
        "ypred_bern = classifier_bern.predict(xtest)"
      ]
    },
    {
      "cell_type": "code",
      "execution_count": 12,
      "metadata": {
        "colab": {
          "base_uri": "https://localhost:8080/",
          "height": 0
        },
        "id": "88pukxjqlrnF",
        "outputId": "588b12f4-3598-4830-e211-af78f274eee7"
      },
      "outputs": [
        {
          "name": "stdout",
          "output_type": "stream",
          "text": [
            "0.875\n"
          ]
        }
      ],
      "source": [
        "#mengimport accuracy score dan menampilkan hasil akurasi dari model bernouli\n",
        "from sklearn.metrics import accuracy_score\n",
        "print(accuracy_score(ytest,ypred_bern))"
      ]
    },
    {
      "cell_type": "code",
      "execution_count": 13,
      "metadata": {
        "colab": {
          "base_uri": "https://localhost:8080/",
          "height": 447
        },
        "id": "yaPZLRdR30jx",
        "outputId": "c51d75b9-5a86-45d7-9609-7f9c6e800dd5"
      },
      "outputs": [
        {
          "data": {
            "text/plain": [
              "<AxesSubplot: >"
            ]
          },
          "execution_count": 13,
          "metadata": {},
          "output_type": "execute_result"
        },
        {
          "data": {
            "image/png": "[encoded data removed]",
            "text/plain": [
              "<Figure size 432x288 with 2 Axes>"
            ]
          },
          "metadata": {
            "needs_background": "light"
          },
          "output_type": "display_data"
        }
      ],
      "source": [
        "#BERNOULLI\n",
        "from sklearn.metrics import confusion_matrix\n",
        "\n",
        "#membandingkan data test dan prediksi\n",
        "cm = confusion_matrix(ytest,ypred_bern)\n",
        "\n",
        "#menampilkan hasil evaluasi menggunakan heatmap\n",
        "sns.heatmap(cm,annot=True,fmt='.0f')"
      ]
    },
    {
      "cell_type": "code",
      "execution_count": 14,
      "metadata": {
        "colab": {
          "base_uri": "https://localhost:8080/",
          "height": 0
        },
        "id": "woRiLNrZ4Chb",
        "outputId": "0270a15f-7394-45a2-f5b5-4baebf0522a7"
      },
      "outputs": [
        {
          "name": "stdout",
          "output_type": "stream",
          "text": [
            "              precision    recall  f1-score   support\n",
            "\n",
            "           0       0.89      0.84      0.86       113\n",
            "           1       0.86      0.91      0.88       127\n",
            "\n",
            "    accuracy                           0.88       240\n",
            "   macro avg       0.88      0.87      0.87       240\n",
            "weighted avg       0.88      0.88      0.87       240\n",
            "\n"
          ]
        }
      ],
      "source": [
        "#menampilkan report dari model bernoulli\n",
        "from sklearn.metrics import classification_report\n",
        "print(classification_report(ytest, ypred_bern))"
      ]
    },
    {
      "attachments": {},
      "cell_type": "markdown",
      "metadata": {
        "id": "scLO13U7oTz9"
      },
      "source": [
        "# GAUSSIAN"
      ]
    },
    {
      "cell_type": "code",
      "execution_count": 15,
      "metadata": {
        "id": "5e-UvmrkoVON"
      },
      "outputs": [],
      "source": [
        "from sklearn.naive_bayes import GaussianNB\n",
        "\n",
        "classifier_gaus = GaussianNB()\n",
        "#train model\n",
        "classifier_gaus.fit(xtrain, ytrain)\n",
        "#testing model\n",
        "ypred_gaus = classifier_gaus.predict(xtest)"
      ]
    },
    {
      "cell_type": "code",
      "execution_count": 16,
      "metadata": {
        "colab": {
          "base_uri": "https://localhost:8080/",
          "height": 0
        },
        "id": "yKjsWN-2oVsW",
        "outputId": "d0c9134b-4b48-4a98-cbfa-a6938b022c10"
      },
      "outputs": [
        {
          "name": "stdout",
          "output_type": "stream",
          "text": [
            "0.8625\n"
          ]
        }
      ],
      "source": [
        "#menampilkan skor dari model\n",
        "print(accuracy_score(ytest,ypred_gaus))"
      ]
    },
    {
      "cell_type": "code",
      "execution_count": 17,
      "metadata": {
        "colab": {
          "base_uri": "https://localhost:8080/",
          "height": 447
        },
        "id": "VtuUJsx82vJD",
        "outputId": "6d2354c3-dec8-42ae-bb0b-4c7708027fa9"
      },
      "outputs": [
        {
          "data": {
            "text/plain": [
              "<AxesSubplot: >"
            ]
          },
          "execution_count": 17,
          "metadata": {},
          "output_type": "execute_result"
        },
        {
          "data": {
            "image/png": "[encoded data removed]",
            "text/plain": [
              "<Figure size 432x288 with 2 Axes>"
            ]
          },
          "metadata": {
            "needs_background": "light"
          },
          "output_type": "display_data"
        }
      ],
      "source": [
        "#GAUSSIAN\n",
        "from sklearn.metrics import confusion_matrix\n",
        "\n",
        "#membandingkan data test dan prediksi\n",
        "cm = confusion_matrix(ytest,ypred_gaus)\n",
        "\n",
        "#menampilkan hasil evaluasi menggunakan heatmap\n",
        "sns.heatmap(cm,annot=True,fmt='.0f')"
      ]
    },
    {
      "cell_type": "code",
      "execution_count": 18,
      "metadata": {
        "colab": {
          "base_uri": "https://localhost:8080/",
          "height": 0
        },
        "id": "lkfuhD-B4Goa",
        "outputId": "71a13a3b-bc68-4a18-a867-e537cff8578c"
      },
      "outputs": [
        {
          "name": "stdout",
          "output_type": "stream",
          "text": [
            "              precision    recall  f1-score   support\n",
            "\n",
            "           0       0.80      0.95      0.87       113\n",
            "           1       0.94      0.79      0.86       127\n",
            "\n",
            "    accuracy                           0.86       240\n",
            "   macro avg       0.87      0.87      0.86       240\n",
            "weighted avg       0.88      0.86      0.86       240\n",
            "\n"
          ]
        }
      ],
      "source": [
        "#menampilkan report dari model bernoulli\n",
        "from sklearn.metrics import classification_report\n",
        "print(classification_report(ytest, ypred_gaus))"
      ]
    },
    {
      "attachments": {},
      "cell_type": "markdown",
      "metadata": {
        "id": "m04qR-2dvm46"
      },
      "source": [
        "# multinomial\n",
        "model ini tidak cocok untuk data yang sedang kita pakai dikarenakan biasanya multinomial digunakan untuk klasifikasi data teks"
      ]
    },
    {
      "cell_type": "code",
      "execution_count": 19,
      "metadata": {
        "id": "QB97VGDamvSW"
      },
      "outputs": [],
      "source": [
        "#melakukan train test split data dengan test size 25%\n",
        "from sklearn.model_selection import train_test_split\n",
        "\n",
        "xtrain,xtest,ytrain,ytest = train_test_split(x,y,test_size = 0.25,random_state = 42)"
      ]
    },
    {
      "cell_type": "code",
      "execution_count": 20,
      "metadata": {
        "id": "TKzmCQEOmoH3"
      },
      "outputs": [],
      "source": [
        "from sklearn.naive_bayes import MultinomialNB\n",
        "mnb = MultinomialNB()\n",
        "#train model\n",
        "mnb.fit(xtrain, ytrain)\n",
        "#testing model\n",
        "ypred_mnb = mnb.predict(xtest)\n"
      ]
    },
    {
      "cell_type": "code",
      "execution_count": 21,
      "metadata": {
        "colab": {
          "base_uri": "https://localhost:8080/",
          "height": 0
        },
        "id": "Xwo-bPufHEEZ",
        "outputId": "4f300fd7-2ffa-453a-a556-80380daa70f0"
      },
      "outputs": [
        {
          "name": "stdout",
          "output_type": "stream",
          "text": [
            "0.725\n"
          ]
        }
      ],
      "source": [
        "#menampilkan skor dari model\n",
        "print(accuracy_score(ytest,ypred_mnb))"
      ]
    },
    {
      "cell_type": "code",
      "execution_count": 22,
      "metadata": {
        "colab": {
          "base_uri": "https://localhost:8080/",
          "height": 447
        },
        "id": "aD7A41TKnjzF",
        "outputId": "76dd39da-0ab0-48b0-deeb-406a07d696e0"
      },
      "outputs": [
        {
          "data": {
            "text/plain": [
              "<AxesSubplot: >"
            ]
          },
          "execution_count": 22,
          "metadata": {},
          "output_type": "execute_result"
        },
        {
          "data": {
            "image/png": "[encoded data removed]",
            "text/plain": [
              "<Figure size 432x288 with 2 Axes>"
            ]
          },
          "metadata": {
            "needs_background": "light"
          },
          "output_type": "display_data"
        }
      ],
      "source": [
        "#MULTINOMIAL\n",
        "from sklearn.metrics import confusion_matrix\n",
        "\n",
        "#membandingkan data test dan prediksi\n",
        "cm = confusion_matrix(ytest,ypred_mnb)\n",
        "\n",
        "#menampilkan hasil evaluasi menggunakan heatmap\n",
        "sns.heatmap(cm,annot=True,fmt='.0f')"
      ]
    },
    {
      "cell_type": "code",
      "execution_count": 23,
      "metadata": {
        "colab": {
          "base_uri": "https://localhost:8080/",
          "height": 0
        },
        "id": "3QcwadBOn1Qz",
        "outputId": "627caa7e-eb63-4656-9f8f-7551437889a3"
      },
      "outputs": [
        {
          "name": "stdout",
          "output_type": "stream",
          "text": [
            "              precision    recall  f1-score   support\n",
            "\n",
            "           0       0.69      0.77      0.72       113\n",
            "           1       0.77      0.69      0.72       127\n",
            "\n",
            "    accuracy                           0.73       240\n",
            "   macro avg       0.73      0.73      0.72       240\n",
            "weighted avg       0.73      0.72      0.72       240\n",
            "\n"
          ]
        }
      ],
      "source": [
        "#menampilkan report dari model bernoulli\n",
        "from sklearn.metrics import classification_report\n",
        "print(classification_report(ytest, ypred_mnb))"
      ]
    },
    {
      "attachments": {},
      "cell_type": "markdown",
      "metadata": {
        "id": "8m2P5E891hGH"
      },
      "source": [
        "# PREDICTION"
      ]
    },
    {
      "cell_type": "code",
      "execution_count": 24,
      "metadata": {
        "colab": {
          "base_uri": "https://localhost:8080/",
          "height": 0
        },
        "id": "4cojwA1v409W",
        "outputId": "014cbd57-6266-4da1-b932-20570f9cd187"
      },
      "outputs": [
        {
          "name": "stderr",
          "output_type": "stream",
          "text": [
            "c:\\Users\\msi-pc\\AppData\\Local\\Programs\\Python\\Python310\\lib\\site-packages\\sklearn\\base.py:409: UserWarning: X does not have valid feature names, but StandardScaler was fitted with feature names\n",
            "  warnings.warn(\n"
          ]
        }
      ],
      "source": [
        "# membuat data baru untuk prediksi\n",
        "coba = np.array([[35, 81, 3, 2, 104, 0, 0, 1, 0, ],\n",
        "                     [34, 180, 1, 3, 0, 0, 0, 0, 0, ],\n",
        "                     [38, 130, 4, 3, 134, 0, 0, 0, 0, ],\n",
        "                     [46, 193, 2, 3, 0, 0, 0, 0, 0, ],\n",
        "                     [56, 25, 4, 2, 111, 0, 0, 1, 0, ]])\n",
        "\n",
        "coba = scx.transform(coba)"
      ]
    },
    {
      "cell_type": "code",
      "execution_count": 25,
      "metadata": {
        "colab": {
          "base_uri": "https://localhost:8080/",
          "height": 0
        },
        "id": "iKrE89Ot05sn",
        "outputId": "d0f9a988-28ec-48f9-abef-7796a7d5ab6e"
      },
      "outputs": [
        {
          "name": "stdout",
          "output_type": "stream",
          "text": [
            "HASIL PREDIKSI: [0 1 1 1 0]\n",
            "0 = tidak pinjaman pribadi\n",
            "1 = pinjaman pribadi\n"
          ]
        }
      ],
      "source": [
        "#melakukan prediksi pada data baru dengan hasil model dari bernoulli\n",
        "prediksi = classifier_bern.predict(coba)\n",
        "print(f'HASIL PREDIKSI: {prediksi}\\n0 = tidak pinjaman pribadi\\n1 = pinjaman pribadi')"
      ]
    },
    {
      "cell_type": "code",
      "execution_count": 26,
      "metadata": {
        "colab": {
          "base_uri": "https://localhost:8080/",
          "height": 0
        },
        "id": "rkhQvLelyA18",
        "outputId": "c41cc099-82c5-4476-838e-19068e3932a8"
      },
      "outputs": [
        {
          "name": "stdout",
          "output_type": "stream",
          "text": [
            "HASIL PREDIKSI: [0 1 1 1 0]\n",
            "0 = tidak pinjaman pribadi\n",
            "1 = pinjaman pribadi\n"
          ]
        }
      ],
      "source": [
        "#melakukan prediksi pada data baru dengan hasil model dari gaussian\n",
        "prediksi = classifier_gaus.predict(coba)\n",
        "print(f'HASIL PREDIKSI: {prediksi}\\n0 = tidak pinjaman pribadi\\n1 = pinjaman pribadi')"
      ]
    },
    {
      "cell_type": "code",
      "execution_count": 27,
      "metadata": {
        "colab": {
          "base_uri": "https://localhost:8080/",
          "height": 0
        },
        "id": "ko3th_X8n7Za",
        "outputId": "a3a14e5c-bf1b-41b3-fc78-3a0a0773fe08"
      },
      "outputs": [
        {
          "name": "stdout",
          "output_type": "stream",
          "text": [
            "HASIL PREDIKSI: [0 1 1 1 0]\n",
            "0 = tidak pinjaman pribadi\n",
            "1 = pinjaman pribadi\n"
          ]
        },
        {
          "name": "stderr",
          "output_type": "stream",
          "text": [
            "c:\\Users\\msi-pc\\AppData\\Local\\Programs\\Python\\Python310\\lib\\site-packages\\sklearn\\base.py:409: UserWarning: X does not have valid feature names, but MultinomialNB was fitted with feature names\n",
            "  warnings.warn(\n"
          ]
        }
      ],
      "source": [
        "#melakukan prediksi pada data baru dengan hasil model dari multinomial\n",
        "prediksi = mnb.predict(coba)\n",
        "print(f'HASIL PREDIKSI: {prediksi}\\n0 = tidak pinjaman pribadi\\n1 = pinjaman pribadi')"
      ]
    },
    {
      "attachments": {},
      "cell_type": "markdown",
      "metadata": {
        "id": "qmtLKoW45Gz3"
      },
      "source": [
        "# KESIMPULAN\n",
        "multinomial mempunyai hasil yang kurang bagus, namun\n",
        "kedua model lainnya mempunyai hasil yang sangat baik dan hampir sama, dimana akurasinya untuk bernouli 87.5% dan gaussian 86.25%. <br>\n",
        "namun dalam kasus kita yaitu memprediksi pinjaman pribadi maka bernoulli lebih baik, selain akurasi yang lebih besar recall bernoulli juga seimbang dan tinggi dalam memprediksi 2 nilai (0 dan 1)"
      ]
    }
  ],
  "metadata": {
    "colab": {
      "provenance": []
    },
    "kernelspec": {
      "display_name": "Python 3",
      "name": "python3"
    },
    "language_info": {
      "codemirror_mode": {
        "name": "ipython",
        "version": 3
      },
      "file_extension": ".py",
      "mimetype": "text/x-python",
      "name": "python",
      "nbconvert_exporter": "python",
      "pygments_lexer": "ipython3",
      "version": "3.10.0"
    }
  },
  "nbformat": 4,
  "nbformat_minor": 0
}

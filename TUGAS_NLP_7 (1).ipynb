{
  "cells": [
    {
      "cell_type": "code",
      "source": [
        "pip install sastrawi"
      ],
      "metadata": {
        "colab": {
          "base_uri": "https://localhost:8080/"
        },
        "id": "JxJxJif9p6mC",
        "outputId": "5b46f206-fa5a-4ce7-d379-e513b36ec862"
      },
      "execution_count": null,
      "outputs": [
        {
          "output_type": "stream",
          "name": "stdout",
          "text": [
            "Looking in indexes: https://pypi.org/simple, https://us-python.pkg.dev/colab-wheels/public/simple/\n",
            "Requirement already satisfied: sastrawi in /usr/local/lib/python3.8/dist-packages (1.0.1)\n"
          ]
        }
      ]
    },
    {
      "cell_type": "code",
      "execution_count": null,
      "metadata": {
        "id": "0aLBCTYOomsF"
      },
      "outputs": [],
      "source": [
        "import pandas as pd\n",
        "import re\n",
        "import re as reg\n",
        "import matplotlib.pyplot as plt\n",
        "import numpy as np"
      ]
    },
    {
      "cell_type": "code",
      "execution_count": null,
      "metadata": {
        "id": "2lMKKFxvomsG"
      },
      "outputs": [],
      "source": [
        "data = pd.read_excel('ReviewTerbaru.xlsx',sheet_name= 'total')\n"
      ]
    },
    {
      "cell_type": "code",
      "execution_count": null,
      "metadata": {
        "id": "ygz8cPmPomsH"
      },
      "outputs": [],
      "source": [
        "from Sastrawi.StopWordRemover.StopWordRemoverFactory import StopWordRemoverFactory\n",
        "from Sastrawi.Stemmer.StemmerFactory import StemmerFactory\n",
        "\n",
        "slangs={'yg':'yang', 'tdk':'tidak', 'pd':'pada', 'mlh':'malah',\n",
        "'jgn':'jangan', 'jg':'juga', 'tp':'tapi', 'blkg': 'belakang',\n",
        "'dr':'dari', 'klo':'kalau', 'lg':'lagi','sj':'saja','bwt':'buat','cm':'cuma','sya':'saya','kalo':'kalau',\n",
        "'kl':'kalau','dg':'dengan','krn':'karena', 'ank':'anak', 'maen':'main','bgt':'banget', 'rp':'rupiah', 'sat' : 'saat', 'sprtinya':'sepertinya','mlm':'malam',\n",
        "'lbh':'lebih', 'tuju': 'tujuan','mayan' : 'lumayan', 'sat':'saat', 'sgt':'sangat', 'pol' : 'sangat', 'dg':'dengan','sabi':'bisa', 'byk' : 'banyak', 'gw' : 'aku',\n",
        "'bs':'bisa','oeang':'orang','utk':'untuk'}\n",
        "\n",
        "hasil_prep = []\n",
        "for kalimat in data['Review']:\n",
        "  prep = re.sub(r'\\W', ' ', str(kalimat))\n",
        "\n",
        "  prep = prep.lower()\n",
        "\n",
        "  prep = re.sub(r'\\d+', ' ', prep)\n",
        "\n",
        "  prep = re.sub(r'\\s+[a-zA-Z]\\s+', ' ', prep)\n",
        "\n",
        "  pattern=reg.compile(r\"(.)\\1{1,}\",reg.DOTALL)\n",
        "  prep=pattern.sub(r\"\\1\",prep)\n",
        "\n",
        "  words = prep.split()\n",
        "  rfrm=[slangs[word] if word in slangs else word for word in words]\n",
        "  prep= \" \".join(rfrm)\n",
        "\n",
        "  factory = StopWordRemoverFactory()\n",
        "  more_stopword =  ['tak', 'jd', 'per', 'nya','buat','and','nan','to','is','bri','banget','the','for','this'] \n",
        "\n",
        "  stopwords = factory.get_stop_words() + more_stopword\n",
        "  temp = [t for t in re.findall(r'\\b[a-z]+-?[a-z]+\\b',prep) if t not in stopwords]\n",
        "  prep = ' '.join(temp)\n",
        "\n",
        "  stemmer = StemmerFactory().create_stemmer()\n",
        "  prep = stemmer.stem(prep)\n",
        "  \n",
        "  prep = re.sub(r'\\s+', ' ', prep, flags=re.I)\n",
        "\n",
        "  hasil_prep.append(prep)"
      ]
    },
    {
      "cell_type": "code",
      "execution_count": null,
      "metadata": {
        "id": "c0ccqMalomsI"
      },
      "outputs": [],
      "source": [
        "hasil_prep"
      ]
    },
    {
      "cell_type": "code",
      "source": [
        "pip install xlsxwriter"
      ],
      "metadata": {
        "colab": {
          "base_uri": "https://localhost:8080/"
        },
        "id": "FrRx5uO5p0Kc",
        "outputId": "9c7865a0-f94f-4e84-8b01-34fc435edcf6"
      },
      "execution_count": null,
      "outputs": [
        {
          "output_type": "stream",
          "name": "stdout",
          "text": [
            "Looking in indexes: https://pypi.org/simple, https://us-python.pkg.dev/colab-wheels/public/simple/\n",
            "Requirement already satisfied: xlsxwriter in /usr/local/lib/python3.8/dist-packages (3.0.3)\n"
          ]
        }
      ]
    },
    {
      "cell_type": "code",
      "execution_count": null,
      "metadata": {
        "id": "EQk6pb8oomsK"
      },
      "outputs": [],
      "source": [
        "import xlsxwriter\n",
        "workbook = xlsxwriter.Workbook('hasilpreprocessing.xlsx', {'nan_inf_to_errors': True})\n",
        "worksheet=workbook.add_worksheet()\n",
        "row=0\n",
        "col=0\n",
        "x=data\n",
        "hasilakhir=list(zip(x.Nama,x.Waktu,x.Rating,x.Review,hasil_prep))\n",
        "worksheet.write(row, col, \"Nama\")\n",
        "worksheet.write(row, col+1, \"Waktu\")\n",
        "worksheet.write(row, col+2, \"Rating\")\n",
        "worksheet.write(row, col+3, \"Review\")\n",
        "worksheet.write(row, col+4, \"CleanReview\")\n",
        "row+=1\n",
        "\n",
        "for a,b,c,d,e in (hasilakhir):\n",
        "  worksheet.write(row, col, a)\n",
        "  worksheet.write(row, col+1, b)\n",
        "  worksheet.write(row, col+2, c)\n",
        "  worksheet.write(row, col+3, d)\n",
        "  worksheet.write(row, col+4, e)\n",
        "  row+=1\n",
        "\n",
        "workbook.close()"
      ]
    },
    {
      "cell_type": "code",
      "execution_count": 85,
      "metadata": {
        "colab": {
          "base_uri": "https://localhost:8080/"
        },
        "id": "KvCTY3C_omsL",
        "outputId": "4ea48c56-9b87-4b6b-aa2b-019ddb081d67"
      },
      "outputs": [
        {
          "output_type": "execute_result",
          "data": {
            "text/plain": [
              "['tempat wisata sekaligus rumah makan daerah baturaden tepat deket telaga sunyi luas guys sini outbound tiket masuk kesana penting sen makan maupun minum xixixi harga makan minum lumayan mahal emang tempat wisata cocok deh kumpul keluarga hunting foto dong view tarik bagus deh akses jalan kesana lumayan gampang si jalan nanjak kelok suasana adem asri deh poko mah bikin nyaman hayuk pernah mampir wajib mampir baturaden adventure forest',\n",
              " 'libur lebaran padat ramai cocok keluarga',\n",
              " 'deket dgn telaga sunyi hutan pinus limpakuwus sktr km timur lokawisata baturaden tempat sejuk biasa banyak unjung wekend libur sante sini nikmat makan minum enak tdi coba teh manis paket mendoan kriuk isi',\n",
              " 'baf alih fungsi jadi restoran tempat jadi tarik makan tawar harga cukup jangkau pandang hutan pinus kursi kayu outdor sangat pas rekreasi atau ada acara event milaniparty ada acara beauty gathering event tahun jafra cosmetic',\n",
              " 'tempat santa sama keluarga jamin muas wahana main tantang uji nyali tempat makan sangat romantis cocok pasang',\n",
              " 'nice place saji view indah alam nusantara',\n",
              " 'tempat sejuk segar pandang matan mushola nyaman makan terlalu mahal',\n",
              " 'enak',\n",
              " 'kunjung restonya lokasi outbond boking kelompok dulu jadi dpt kunjung unjung umum',\n",
              " 'tempat bagus sejuk suasana makananya enak',\n",
              " 'baturaden adventure forest singkat baf tempat nongkrong kalang muda family time tempat sejuk adem seru cafe adventure makan enak pegawai ramah tamah',\n",
              " 'teman teman mau giat outbond tempat sangat rekomended',\n",
              " 'baturaden adventure forest tempat nyaman sejuk dingin sedia tempat makan pandang hutan gunung sungai makananya enak harga jangkau baturaden adventure forest sedia spot spot selfie instragamable pokok cocok tempat meting kumpul keluarga tamasya loh',\n",
              " 'wisata lokal sejuk nikmat terimakasih baturaden banyuwangi jawa tengah',\n",
              " 'kalau mau litle escape kota purwokerto sini tempat adem sunyi pandang hutan pinus indah mau cari ilham bikin kerjan dar nongkrong cocok makan ga kalah cuma sini susah sinyal guys',\n",
              " 'pemandanganya indah tempat sejuk makan minumanya enak',\n",
              " 'recomended nyaman menu enak cocok kumpul keluarga',\n",
              " 'makananya enak situasi nyaman pas nyantai bareng teman teman',\n",
              " 'makan enak harga murmer besok mau bawa temen kesna ah',\n",
              " 'restonya makan ngopi sini hari mingu jadi ramai tungu makan hampir jam',\n",
              " 'wisata alam gunung cuaca sangat sejuk cocok semua kalang baik keluarga rombong sama pacar cocock sangat',\n",
              " 'sini olahraga berat ringan duduk bawah pohon pinus makan pisang goreng tahu goreng mendoan nasi ayam goreng nasi goreng dl dicafe agathis tungu anak beradventure',\n",
              " 'makan agathis resto tempat enak alami cocok refreshing sayang varian makan kurang agam rasa udah cukup oke',\n",
              " 'tempat sangat luas lapang buka sama sekali kerumun makan lumayan enak',\n",
              " 'salah satu tempat hits kawasan baturaden sini nongkrong adventure harga makan kantong mahasiswa lumayan banyak pilih menu banyak spot nongkrong cozy ayun pohon close order jam sore best place hilang penat',\n",
              " 'tempat keren outbond camping ala ala gitu soal nice hospitality quite recomended place held an event',\n",
              " 'pandang asri tempat sejuk udara segar ciri khas tempat wisata tempat bagus refreshing sama keluarga',\n",
              " 'alami konsep eco park sangat ramah lingkung sejuk nyaman keluarga',\n",
              " 'sejuk dingin nyaman tempat cozy hilang jenak ruwet rutinitas pekerjan',\n",
              " 'nyaman suasana',\n",
              " 'tempat bagus alami sungai bersih udara segar parkir luas',\n",
              " 'seru camping giat alam lai staf ramah fasilitas komplit refreshing rutinitas kota cocok',\n",
              " 'tempat nyaman sejuk makananya worth it coba tempat bersih pelayananya bagus',\n",
              " 'mau cari sensasi tualang masuk hutan camping sini tempat servis oke kru kompeten ramah lokasi tata tetap asa alami',\n",
              " 'air terjun udara enak arnya bening tempat refreshing',\n",
              " 'baturaden adventure forest tempat asik harga sesuai fasilitas dapat',\n",
              " 'enak libur acara kantor',\n",
              " 'tempat asik lepas penat rutinitas pandang hijau pohon tingi telaga',\n",
              " 'tani suara alam tenang diskus ringan sama sahabat tempat bagus photo',\n",
              " 'ngadem sebentar mnikmati gelas kopi',\n",
              " 'tempat recomended rekreasi keluarga nyaman suasana buat hati refresh paket tawar sangat tarik',\n",
              " 'tempat rekomendit outbond adventure tambah suasana sejuk hijau',\n",
              " 'bagus tempat sejuk cukup bersih menu enak',\n",
              " 'asik butuh duit banyak mahal',\n",
              " 'tempat sangat cocok keluarga rekan kerja kalau mau habis libur main alam',\n",
              " 'tempat keren sejuk cocok outbond meski serta ratus kelola sangat profesional',\n",
              " 'tempat bagus sejuk nyaman seng tamasya sama keluarga',\n",
              " 'tempat nyaman bincang keluarga teman siapa sayang karena sinyal ponsel cukup sulit bahkan nyaris jadi kualitas saman memang jaga harga makan jangkau meski golong cukup tingi ukur penganguran lebih seru',\n",
              " 'tempat asri',\n",
              " 'pernah kesana']"
            ]
          },
          "metadata": {},
          "execution_count": 85
        }
      ],
      "source": [
        "dataset = pd.read_excel('hasilpreprocessing.xlsx', sheet_name='Sheet1')\n",
        "data = dataset['CleanReview']\n",
        "data = data.dropna()\n",
        "data = data.values.tolist()\n",
        "data = [str(x) for x in data]\n",
        "data[:50]"
      ]
    },
    {
      "cell_type": "code",
      "execution_count": null,
      "metadata": {
        "colab": {
          "base_uri": "https://localhost:8080/"
        },
        "id": "zq31x-hjomsL",
        "outputId": "3561a159-bfc6-47c3-fe4d-6c703fcece04"
      },
      "outputs": [
        {
          "output_type": "stream",
          "name": "stdout",
          "text": [
            "['abadi', 'abdi', 'abiez', 'abis', 'able', 'about', 'abseil', 'abseiling', 'ac', 'acara', 'acountant', 'action', 'activities', 'ad', 'ada', 'adan', 'adap', 'adapun', 'adem', 'adik', 'adipati', 'adl', 'adrenalin', 'adrenaline', 'aduh', 'advanture', 'adventur', 'adventure', 'adventurenya', 'adventurnya', 'advorable', 'aer', 'aernya', 'aesthetic', 'afar', 'afdol', 'afordable', 'after', 'again', 'agam', 'agama', 'agathis', 'agatis', 'agenda', 'agk', 'aglonema', 'ago', 'agust', 'agustus', 'ah', 'ain', 'air', 'airna', 'airny', 'airterjunya', 'aja', 'ajah', 'ajak', 'ajal', 'ajar', 'ajib', 'ak', 'akal', 'akan', 'akar', 'akeh', 'akhir', 'akibat', 'akrab', 'akses', 'aksesoris', 'aksesorisnya', 'aksi', 'akta', 'aktif', 'aktifita', 'aktifitas', 'aktivitas', 'aku', 'akur', 'akurat', 'al', 'ala', 'aladin', 'alah', 'alam', 'alamat', 'alami', 'alamiah', 'alamya', 'alangkah', 'alas', 'alat', 'alhamdulilah', 'alhmdlqh', 'ali', 'alias', 'alih', 'alir', 'aliranya', 'alm', 'along', 'also', 'alternatif', 'alternative', 'aluminium', 'alun', 'am', 'ama', 'aman', 'amazing', 'ambar', 'ambiance', 'ambil', 'ambtenaren', 'ampe', 'ampun', 'amsterdam', 'amsyong', 'an', 'anak', 'anakali', 'anakq', 'ancer', 'ancient', 'andai', 'andal', 'andang', 'andhang', 'aneh', 'aneka', 'anekan', 'angel', 'anget', 'angetnya', 'angin', 'anginya', 'angklung', 'angkot', 'angkring', 'angkut', 'angota', 'angsa', 'angun', 'anjur', 'another', 'antar', 'antara', 'antarium', 'anti', 'antik', 'antri', 'anugerah', 'anya', 'anyone', 'apa', 'apabila', 'api', 'apik', 'apit', 'aq', 'aqua', 'arah', 'are', 'area', 'areal', 'areas', 'arena', 'aria', 'aris', 'arnya', 'aroma', 'arsip', 'arsitektur', 'arti', 'arus', 'as', 'asa', 'asal', 'asam', 'asap', 'aset', 'asia', 'asik', 'asing', 'asli', 'aspal', 'aspek', 'asri', 'aston', 'asuransi', 'asyik', 'at', 'atap', 'atas', 'atau', 'ataubsekedar', 'ataumasuk', 'atikoh', 'atm', 'atmaja', 'atmosfer', 'ato', 'atraksi', 'atuh', 'atur', 'atv', 'atw', 'audiovisual', 'aula', 'aur', 'australia', 'available', 'awal', 'awan', 'awas', 'awasin', 'awat', 'awesome', 'ay', 'ayam', 'ayem', 'ayo', 'ayun', 'bablas', 'baby', 'baca', 'back', 'background', 'badan', 'bae', 'baeutiful', 'baf', 'bag', 'bagai', 'bagaimana', 'baget', 'bagi', 'bagibyang', 'bagua', 'bagunan', 'bagus', 'bahagia', 'bahan', 'bahasa', 'bahela', 'bahkan', 'bahu', 'baik', 'baja', 'bajak', 'baju', 'bak', 'bakal', 'bakar', 'bakat', 'bakery', 'bakso', 'bal', 'balai', 'balik', 'balita', 'balok', 'balon', 'bambu', 'ban', 'banana', 'banding', 'bandung', 'banernya', 'bang', 'bangaet', 'bangat', 'banged', 'bangets', 'bangku', 'bangsa', 'bangun', 'bangunanya', 'bangus', 'banjir', 'bank', 'banking', 'bantal', 'bantu', 'banyak', 'banyakin', 'banyal', 'banyk', 'banyuamas', 'banyumas', 'banyumasan', 'banyuwangi', 'bapa', 'bapack', 'bapak', 'barang', 'barat', 'barbeque', 'barcode', 'bareng', 'barier', 'barlingmas', 'barlingmascakeb', 'baru', 'barusan', 'basa', 'basah', 'basarnas', 'bat', 'bata', 'batagor', 'batal', 'batas', 'batita', 'batu', 'batur', 'baturaden', 'bau', 'bawa', 'bawah', 'bayan', 'bayang', 'bayar', 'bayi', 'bc', 'be', 'beautiful', 'beauty', 'beban', 'bebas', 'bebatuan', 'bebek', 'beberapa', 'bebungan', 'becak', 'becanda', 'because', 'becek', 'beda', 'bedirinya', 'before', 'beginer', 'begini', 'begitu', 'bei', 'bejarak', 'bekal', 'bekas', 'bel', 'belah', 'belak', 'belakang', 'belanda', 'belanja', 'belerang', 'beli', 'beliau', 'belok', 'belon', 'beluk', 'belum', 'benah', 'benar', 'benarbenar', 'benda', 'bener', 'beneran', 'bengkalai', 'bengkok', 'bengong', 'bening', 'bensin', 'bentang', 'bentar', 'bentuk', 'benua', 'ber', 'beradventure', 'beraktifitas', 'beranekaragam', 'berangkat', 'berani', 'beranta', 'berantas', 'berapa', 'berat', 'berendem', 'berendemnya', 'berfikir', 'beri', 'berisik', 'berjakar', 'berlika', 'berma', 'bermanfat', 'berner', 'bernuasa', 'berpiknikbagi', 'bersante', 'bersih', 'bersihin', 'berswaphoto', 'bertangung', 'beruang', 'beruk', 'besantai', 'besar', 'besejarah', 'besi', 'beside', 'besih', 'besok', 'best', 'bestur', 'beswafoto', 'bet', 'betah', 'betapa', 'beter', 'beton', 'bets', 'betsih', 'betul', 'beuh', 'beverages', 'bg', 'bgitu', 'bgs', 'bgus', 'bht', 'bia', 'biar', 'biarpun', 'biasa', 'biasah', 'biaya', 'bibit', 'bicara', 'bidadari', 'bidadarj', 'big', 'bihalal', 'bike', 'bikin', 'bikinin', 'bila', 'bilang', 'bilas', 'bilik', 'bimbing', 'binatang', 'bincang', 'bingung', 'bintang', 'biografi', 'bioskop', 'bird', 'biru', 'bis', 'bisadari', 'bising', 'bismilah', 'bisu', 'bitanin', 'bizare', 'bkin', 'blast', 'blend', 'blm', 'block', 'blom', 'blue', 'bms', 'bnanget', 'bner', 'bnget', 'bngt', 'bnr', 'bnyak', 'bnyk', 'bodi', 'body', 'bogor', 'bok', 'boked', 'boking', 'bola', 'boleh', 'bolehin', 'bolu', 'bom', 'boming', 'bond', 'bondol', 'bongkar', 'bonus', 'bos', 'bosan', 'bosen', 'botani', 'botol', 'botom', 'bpk', 'bptu', 'bq', 'brankas', 'bravo', 'bray', 'brebes', 'brg', 'brief', 'bring', 'brisat', 'brmacam', 'bro', 'brp', 'brpa', 'brsma', 'bsa', 'bt', 'btw', 'buah', 'buang', 'buanget', 'buar', 'buat', 'buaya', 'bubuk', 'budaya', 'budget', 'bugdet', 'building', 'buing', 'buk', 'buka', 'bukan', 'bukit', 'bukti', 'buku', 'bulan', 'bumi', 'bumn', 'bundar', 'bunga', 'bungkus', 'bunyi', 'bupati', 'buru', 'buruk', 'burung', 'bus', 'busa', 'but', 'butuh', 'by', 'byasa', 'byr', 'cabang', 'cabe', 'cafe', 'cafenya', 'cafes', 'cagar', 'cage', 'cair', 'cakeb', 'cakep', 'calengan', 'calung', 'camat', 'came', 'camp', 'camping', 'campur', 'can', 'candu', 'cangkir', 'canim', 'cantik', 'canyoning', 'capa', 'capai', 'cape', 'capek', 'capung', 'cara', 'card', 'careful', 'cari', 'casava', 'cash', 'castle', 'cat', 'catat', 'catching', 'caub', 'cave', 'ceheng', 'cek', 'cekibrot', 'cekung', 'celana', 'celcius', 'celengan', 'celsius', 'cemar', 'cemilanya', 'cenderung', 'cendrawasih', 'cengkerama', 'center', 'cepat', 'cepet', 'cerah', 'cerdas', 'cerita', 'cetak', 'cetek', 'chalenging', 'charge', 'cheap', 'check', 'children', 'chose', 'ciblon', 'cikal', 'cilacap', 'cilok', 'cina', 'cinderamata', 'cindy', 'cinta', 'ciptan', 'cir', 'ciri', 'city', 'clean', 'clear', 'clif', 'clift', 'climbing', 'close', 'clubs', 'cmiw', 'co', 'coaster', 'coba', 'cobain', 'cocock', 'cocok', 'cocol', 'cod', 'codan', 'cofe', 'cofeshop', 'coid', 'cok', 'col', 'cold', 'colection', 'colections', 'colonialism', 'colonization', 'colourful', 'combong', 'come', 'comes', 'comfortable', 'comfy', 'coming', 'company', 'comuterline', 'concern', 'cone', 'cons', 'constant', 'contoh', 'cor', 'corner', 'corona', 'corousel', 'cosmetic', 'counter', 'court', 'covid', 'cozy', 'created', 'crita', 'cros', 'crowded', 'ctoc', 'cuaca', 'cuci', 'cucok', 'cucu', 'cujup', 'cuk', 'cukup', 'cuma', 'cuman', 'cup', 'curah', 'curam', 'curancy', 'curency', 'curi', 'curug', 'curugny', 'curugnya', 'curugnyagak', 'curugtelu', 'curuk', 'curuq', 'cutug', 'cuy', 'cwe', 'da', 'dab', 'dada', 'dadak', 'daerah', 'daftar', 'dagang', 'dah', 'dahan', 'dahulu', 'daily', 'dairy', 'daki', 'dalam', 'dalem', 'damai', 'damar', 'dampak', 'dan', 'danau', 'dangkal', 'dapat', 'dapet', 'dar', 'daribparkiran', 'dasar', 'datang', 'datar', 'dateng', 'datengnya', 'dating', 'daun', 'day', 'daya', 'de', 'dealer', 'debit', 'december', 'dech', 'deck', 'definisi', 'definite', 'deh', 'dehg', 'dekade', 'dekat', 'deket', 'deldom', 'delman', 'demi', 'denfan', 'dengan', 'dengat', 'denger', 'depa', 'depan', 'depet', 'depth', 'der', 'derajat', 'deras', 'deres', 'deret', 'derita', 'desa', 'desain', 'desember', 'deserted', 'designed', 'designya', 'deskripsi', 'desrination', 'destinadi', 'destinasi', 'destination', 'detail', 'detinasi', 'developed', 'developer', 'dewa', 'dewasa', 'dftr', 'dganti', 'dgn', 'dh', 'diajakin', 'dibagusin', 'dibaturaden', 'dibolehin', 'dibtambah', 'dicafe', 'dicampuradukan', 'did', 'didatengi', 'didatengin', 'dideket', 'didik', 'didkt', 'didlm', 'dieropa', 'diet', 'diexplore', 'difabel', 'difable', 'diferent', 'dignal', 'dijadin', 'dikarangsalam', 'dikit', 'dikunjungin', 'dilewatin', 'diliatin', 'dimanfatkan', 'dimasukin', 'dimensi', 'dimsum', 'dinasty', 'dinding', 'dindonesia', 'dingi', 'dingin', 'dinginya', 'dinikmatin', 'dinisiasi', 'dinyalain', 'diorama', 'dioramas', 'dipake', 'dipaving', 'diperbaikin', 'dipingir', 'dipingiran', 'diplays', 'dipurwokerto', 'directly', 'direkomondasikn', 'direksi', 'direnofasi', 'diri', 'disarankn', 'discount', 'discrening', 'diseberamg', 'diskon', 'diskus', 'display', 'disuplay', 'ditemput', 'ditmapulkan', 'diving', 'djegangan', 'djoko', 'dkat', 'dkt', 'dl', 'dlm', 'dmna', 'dn', 'dna', 'doa', 'doang', 'doeloe', 'doi', 'doing', 'dokumen', 'domba', 'dome', 'domisili', 'dompet', 'don', 'done', 'dong', 'donk', 'dont', 'donx', 'dorong', 'down', 'downhil', 'dpet', 'dpkai', 'dpn', 'dpt', 'drainase', 'dri', 'drink', 'drinks', 'driver', 'drum', 'dsayangkan', 'dsediain', 'dsini', 'dsn', 'dtangnya', 'dtg', 'dua', 'duduk', 'duh', 'duit', 'dukung', 'dulu', 'dunia', 'duper', 'duplikat', 'durasi', 'during', 'dusta', 'dusun', 'dutch', 'earlier', 'early', 'easily', 'easy', 'eat', 'eco', 'economic', 'edar', 'edit', 'education', 'educational', 'educative', 'edukasi', 'edukasih', 'edukatif', 'efek', 'efektif', 'efort', 'egk', 'eh', 'ejan', 'ekologi', 'ekonomi', 'ekonomis', 'ekowisata', 'ekpektasi', 'eks', 'eksotic', 'eksotik', 'eksotis', 'ekspektasi', 'eksplorasi', 'eksplore', 'ekstra', 'ekxplore', 'elang', 'elek', 'elektronik', 'elm', 'elo', 'emak', 'eman', 'emang', 'emas', 'ember', 'embun', 'emng', 'en', 'enak', 'encouraging', 'end', 'eneng', 'energi', 'enga', 'engak', 'enjoy', 'enjoyed', 'enough', 'ensiklopedia', 'entah', 'enter', 'entering', 'entrance', 'entry', 'environmet', 'epik', 'era', 'eropa', 'erti', 'es', 'escape', 'eskalator', 'eskrim', 'esok', 'especialy', 'etak', 'europe', 'even', 'event', 'every', 'everywhere', 'ewu', 'ex', 'excited', 'exclude', 'exit', 'experience', 'explained', 'explore', 'extra', 'eye', 'facilities', 'fakta', 'famili', 'familiar', 'family', 'fan', 'far', 'farm', 'farmhousenya', 'faruq', 'fasilias', 'fasilitas', 'fasilitator', 'fasum', 'fauna', 'favorit', 'favourite', 'feder', 'feds', 'felt', 'fero', 'festival', 'fieldtrip', 'figure', 'fil', 'file', 'film', 'first', 'firstly', 'fisik', 'fit', 'fitri', 'fju', 'flaying', 'float', 'flowers', 'flying', 'fo', 'fod', 'fodcort', 'fodcourt', 'fodcourtnya', 'fodcurt', 'fods', 'foker', 'folow', 'forest', 'format', 'foto', 'fotogenic', 'fotografer', 'fotografi', 'fotoin', 'fox', 'fre', 'fres', 'fresg', 'fresh', 'fried', 'friendly', 'friends', 'from', 'fto', 'ful', 'fun', 'fungame', 'fungsi', 'futsal', 'fyi', 'ga', 'gabisa', 'gaboleh', 'gada', 'gadungan', 'gaes', 'gag', 'gagas', 'gais', 'gajah', 'gak', 'gakalah', 'gakan', 'gaknya', 'gakpernah', 'galak', 'galeri', 'galiat', 'galih', 'gambar', 'game', 'games', 'gamoang', 'gampang', 'gan', 'gang', 'ganjar', 'ganti', 'gantung', 'gapapa', 'gapura', 'garang', 'garden', 'gas', 'gasebo', 'gasik', 'gatau', 'gate', 'gaterlalu', 'gathering', 'gave', 'gawe', 'gawrong', 'gaya', 'gazebo', 'gede', 'gedung', 'gegas', 'gel', 'gelang', 'gelap', 'gelar', 'gelas', 'gelato', 'gemar', 'gemericik', 'gemerlap', 'gemesin', 'gemricik', 'general', 'generasi', 'geng', 'gengs', 'geong', 'ger', 'gera', 'gerah', 'gerbang', 'gercep', 'gereget', 'gerilya', 'gerimis', 'gersang', 'ges', 'get', 'geys', 'ghaib', 'giat', 'gila', 'gilir', 'gin', 'ginger', 'ginian', 'ginj', 'gitu', 'give', 'giz', 'gk', 'gmn', 'go', 'goa', 'goceng', 'god', 'gogle', 'gold', 'gole', 'golong', 'gondrong', 'gopro', 'goreng', 'gosebumps', 'got', 'gov', 'gowes', 'goweser', 'grab', 'gras', 'gratis', 'gratisya', 'great', 'grebeg', 'greget', 'gren', 'grenery', 'grimis', 'griya', 'ground', 'group', 'grp', 'gt', 'gtu', 'gua', 'gubuk', 'gue', 'gues', 'guest', 'guide', 'gujung', 'gumawang', 'gun', 'guna', 'gunakn', 'gunung', 'gurih', 'guy', 'guys', 'gx', 'ha', 'habis', 'habisin', 'habitat', 'had', 'hadap', 'hadir', 'haha', 'hahah', 'hahaha', 'hahahaha', 'hahahahaha', 'halal', 'halaman', 'halamanya', 'halang', 'half', 'halus', 'hambat', 'hamil', 'hamock', 'hampar', 'hampir', 'hancur', 'handal', 'handphone', 'handuk', 'hang', 'hangat', 'hangout', 'hanya', 'harap', 'harga', 'hari', 'harimau', 'harmoni', 'harus', 'haruse', 'has', 'hasil', 'hati', 'haus', 'havana', 'have', 'having', 'hawa', 'hawany', 'hayat', 'hayuk', 'hbs', 'healing', 'heared', 'hebat', 'heboh', 'hehe', 'heheh', 'hehehe', 'hehehehe', 'hei', 'held', 'helpful', 'hening', 'henti', 'heran', 'here', 'hewan', 'hewanya', 'hias', 'hibur', 'hiburak', 'hiden', 'hidup', 'high', 'highlight', 'highly', 'hihi', 'hijau', 'hik', 'hiking', 'hiks', 'hilang', 'hilir', 'hils', 'himbauan', 'hindar', 'hinga', 'hinuran', 'hipnotis', 'hiru', 'hiruk', 'hirup', 'histori', 'historic', 'historical', 'historis', 'history', 'hitam', 'hits', 'hitung', 'hm', 'hnya', 'hobi', 'hoby', 'hofden', 'holiday', 'holidays', 'home', 'homestay', 'homogen', 'homogeneous', 'hormat', 'horor', 'hospitality', 'hostoris', 'hot', 'hotel', 'hour', 'hours', 'house', 'housed', 'how', 'hp', 'hpl', 'hpnya', 'hpt', 'hr', 'hrg', 'hrga', 'hrs', 'hrus', 'ht', 'htm', 'htmnya', 'hub', 'hubung', 'huehehe', 'huge', 'hujan', 'hulp', 'hunter', 'hunting', 'huran', 'hutan', 'hutang', 'hutanya', 'hv', 'hwhw', 'hwi', 'ialah', 'ibadah', 'ibu', 'ice', 'iced', 'icon', 'idr', 'idukatif', 'idul', 'if', 'ig', 'iguana', 'ijin', 'ijo', 'ijonya', 'ikan', 'ikanya', 'ikat', 'ikhlas', 'ikon', 'ikut', 'ikutin', 'ilham', 'ilmu', 'ilusi', 'iman', 'imitation', 'imo', 'imperialism', 'imperialisme', 'impresionya', 'improving', 'in', 'inap', 'include', 'inclued', 'indah', 'independence', 'independency', 'indikasi', 'indonesia', 'indonesian', 'indor', 'industrial', 'info', 'infoklo', 'informasi', 'informatif', 'information', 'ingat', 'ingetin', 'ingin', 'inginksanalagi', 'ingris', 'ini', 'inladsche', 'inlandsche', 'inovasi', 'inside', 'insragramable', 'instagram', 'instagramabale', 'instagramable', 'instagramble', 'instead', 'instgramable', 'instragamable', 'instragmable', 'instruktur', 'insya', 'insyalh', 'interaksi', 'interest', 'interesting', 'internet', 'iri', 'isi', 'islam', 'istilah', 'istimewa', 'istirahat', 'istri', 'isturahat', 'isyarat', 'it', 'italia', 'item', 'its', 'itu', 'ituloh', 'iya', 'iyack', 'izin', 'jabar', 'jablaynya', 'jacket', 'jadi', 'jadiny', 'jadul', 'jae', 'jafra', 'jaga', 'jagain', 'jago', 'jagung', 'jahe', 'jaja', 'jajah', 'jajak', 'jajal', 'jajan', 'jajananyapun', 'jajar', 'jakarta', 'jaket', 'jala', 'jalan', 'jalanane', 'jalananya', 'jalany', 'jaln', 'jalur', 'jam', 'jaman', 'jambore', 'jamin', 'jangan', 'jangkau', 'jangn', 'janji', 'jantung', 'jaouh', 'japanese', 'jarak', 'jarang', 'jarnih', 'jasa', 'jateng', 'jatuh', 'jauh', 'java', 'jawa', 'jawab', 'jawabarat', 'jawatengah', 'jdi', 'jdny', 'jebol', 'jeda', 'jejer', 'jelajah', 'jelang', 'jelas', 'jemah', 'jembatan', 'jembatanya', 'jemu', 'jenak', 'jend', 'jendela', 'jenderal', 'jendral', 'jenis', 'jenuh', 'jepang', 'jepit', 'jerat', 'jerih', 'jernah', 'jernih', 'jero', 'jeruk', 'jetnih', 'jga', 'jin', 'jiwa', 'jl', 'jln', 'jm', 'jngn', 'jo', 'jodoh', 'joging', 'jogja', 'jogya', 'jorok', 'jos', 'jual', 'juang', 'judule', 'jufa', 'juh', 'jujur', 'julang', 'juli', 'jum', 'jumat', 'jumlah', 'jump', 'jumpa', 'jumping', 'jungkit', 'junglat', 'juni', 'junjung', 'juos', 'jurang', 'jurugnya', 'jurus', 'just', 'juta', 'kab', 'kabupaten', 'kabut', 'kaca', 'kacamata', 'kadang', 'kadar', 'kadipaten', 'kafe', 'kaget', 'kait', 'kakak', 'kaki', 'kala', 'kalah', 'kalang', 'kalau', 'kalean', 'kalender', 'kaleng', 'kali', 'kalian', 'kalimantan', 'kalkun', 'kalo', 'kaloka', 'kalong', 'kalu', 'kamandaka', 'kamar', 'kambang', 'kambing', 'kamera', 'kamis', 'kampung', 'kampus', 'kamu', 'kan', 'kanak', 'kanal', 'kanan', 'kandang', 'kandung', 'kangen', 'kanopi', 'kantin', 'kantong', 'kantor', 'kapal', 'kapan', 'kapasitas', 'kapok', 'kaporit', 'karakter', 'karang', 'karangmangu', 'karangsalam', 'karat', 'karcis', 'karena', 'karna', 'karpet', 'kartun', 'karyawan', 'karyawati', 'kas', 'kasarung', 'kasi', 'kasih', 'kasir', 'kaswari', 'kata', 'katak', 'kate', 'kategori', 'kaum', 'kawan', 'kawasan', 'kawatir', 'kawula', 'kaya', 'kayak', 'kayu', 'kayuh', 'kdang', 'kdepanya', 'kdsini', 'keamananya', 'keasrianya', 'kebab', 'kebahagian', 'kebaturaden', 'kebersihanya', 'kebesihan', 'kebudayan', 'kebumen', 'kebun', 'kec', 'kecap', 'kece', 'kecebong', 'kecewa', 'kecil', 'kecurug', 'kecurugnya', 'kedai', 'kedalamanya', 'kedelai', 'kedung', 'kegiatanya', 'keindahanya', 'keinget', 'kek', 'kekuranganya', 'kel', 'kelak', 'kelas', 'kelelawar', 'kelihatanya', 'keliling', 'kelinci', 'kelok', 'kelola', 'kelompok', 'keluar', 'keluarga', 'kemah', 'kemarau', 'kemaren', 'kemari', 'kemarin', 'kembali', 'kembang', 'kemerdekan', 'kempingnya', 'kemudi', 'kemudian', 'ken', 'kena', 'kenal', 'kenan', 'kenang', 'kencan', 'kencang', 'kendara', 'kendaran', 'kendur', 'kenduren', 'kental', 'kentongan', 'kenya', 'kenyang', 'kenyat', 'kep', 'kepala', 'kerabat', 'kerajan', 'keran', 'kerangka', 'kerap', 'keras', 'kerdil', 'keren', 'kereta', 'kering', 'kerja', 'kerjan', 'kertas', 'keruh', 'kerumun', 'kes', 'kesan', 'kesana', 'kesanya', 'kesehatanya', 'kesejahteran', 'kesini', 'kesinj', 'kesino', 'kesisni', 'kesitu', 'kesna', 'ketat', 'ketelen', 'ketemu', 'ketenger', 'keteranganya', 'ketik', 'ketika', 'ketingalan', 'kg', 'kgx', 'khas', 'khasiat', 'khawatir', 'khusus', 'kiai', 'kicau', 'kids', 'kijang', 'kilau', 'kilo', 'kilometer', 'kinclong', 'kini', 'kios', 'kira', 'kiri', 'kirim', 'kisah', 'kisar', 'kitar', 'klasik', 'klaster', 'kledung', 'klelat', 'kliatan', 'kliatanya', 'klu', 'kluarga', 'klw', 'km', 'kmahalan', 'kmaren', 'kmarin', 'kmr', 'kmrin', 'knapa', 'know', 'knp', 'knpa', 'ko', 'kocek', 'kodim', 'koin', 'kok', 'kokoh', 'kolam', 'koleksi', 'kolem', 'kolonial', 'kombinasi', 'komdar', 'komen', 'kompak', 'kompeten', 'komplain', 'kompleks', 'komplit', 'komputer', 'komunikasi', 'komunitas', 'kondisi', 'kongkow', 'konon', 'konsep', 'konser', 'konstan', 'konteks', 'kontras', 'kontribusi', 'kontrol', 'koperasi', 'kopi', 'koq', 'kora', 'kordinasi', 'korem', 'kosong', 'kostum', 'kota', 'kotapurwokerto', 'kotor', 'kounter', 'kph', 'kran', 'kreasi', 'kreatif', 'kredit', 'krg', 'kriuk', 'krl', 'krluar', 'krluarga', 'krna', 'kru', 'ksana', 'ksini', 'ksitu', 'ksni', 'ktv', 'ku', 'kuah', 'kualitas', 'kuas', 'kuasa', 'kuat', 'kubah', 'kuberitahu', 'kubur', 'kucing', 'kuda', 'kudu', 'kuist', 'kuliah', 'kulienernya', 'kuliner', 'kulit', 'kulkas', 'kumon', 'kumplit', 'kumpul', 'kunci', 'kunjung', 'kunjunganya', 'kuno', 'kuota', 'kupat', 'kupon', 'kurang', 'kurg', 'kursi', 'kusen', 'kutaliman', 'kuti', 'kutub', 'kuwera', 'ky', 'kyak', 'kyaknya', 'laen', 'lagj', 'lah', 'lahan', 'lahar', 'lahir', 'lai', 'lain', 'laki', 'laku', 'lalat', 'lalu', 'lama', 'lampion', 'lampionya', 'lampu', 'lancar', 'lancong', 'land', 'landai', 'landak', 'landmark', 'langit', 'langka', 'langkah', 'langsung', 'lanjur', 'lanjut', 'lansia', 'lanskap', 'lantai', 'lantar', 'lapang', 'lapanganya', 'lapar', 'laper', 'larang', 'lari', 'last', 'lasti', 'latar', 'latih', 'laughed', 'laut', 'lawan', 'lawang', 'layak', 'layan', 'layang', 'layar', 'lbih', 'learn', 'lebar', 'lebaran', 'lebat', 'lebih', 'leboh', 'lega', 'legacy', 'legenda', 'legendaris', 'lekas', 'lekat', 'lelah', 'leluatga', 'lemah', 'lemak', 'lemari', 'lembaga', 'lembah', 'lembahpegunungan', 'lembang', 'lembut', 'lemon', 'lempar', 'lendir', 'lengan', 'lengang', 'lengar', 'lenger', 'lengkap', 'lepas', 'lereng', 'leseh', 'lestari', 'leta', 'letak', 'levels', 'lewat', 'lezat', 'lgi', 'lh', 'lha', 'lho', 'lian', 'liar', 'liat', 'libuaran', 'libur', 'licin', 'lidah', 'life', 'light', 'lihat', 'like', 'liku', 'lila', 'lima', 'lime', 'limpah', 'limpakuwus', 'limut', 'lingkar', 'lingkung', 'lingkunganya', 'lintang', 'lintas', 'lipat', 'lipstick', 'liput', 'lisan', 'list', 'listrik', 'litle', 'live', 'lmyan', 'lngsung', 'lo', 'loby', 'local', 'located', 'location', 'logat', 'logistik', 'loh', 'lok', 'lokal', 'lokari', 'lokasi', 'lokawisata', 'lokawisatamya', 'loket', 'loking', 'lomcatan', 'lompat', 'loncat', 'londo', 'long', 'longsor', 'lonjak', 'love', 'loved', 'lovers', 'low', 'lowong', 'luang', 'luar', 'luarbiasa', 'luas', 'lucu', 'lukisanya', 'lulur', 'lumayan', 'lumping', 'lumut', 'lunch', 'lupa', 'lur', 'lurs', 'lurus', 'lutung', 'lutut', 'ma', 'macam', 'macan', 'macem', 'macen', 'macet', 'machine', 'macur', 'mada', 'madu', 'maenan', 'maf', 'magelang', 'mah', 'mahakarya', 'mahal', 'mahasiswa', 'mai', 'main', 'mainanya', 'majapahit', 'majikan', 'majikanya', 'makan', 'makananya', 'makanya', 'makasih', 'make', 'makes', 'makin', 'maklum', 'makna', 'maknyus', 'maksimal', 'mal', 'malah', 'malam', 'malambaikan', 'malang', 'malem', 'maleman', 'males', 'malqm', 'mama', 'mamalia', 'mamfatkan', 'mami', 'mampir', 'mampu', 'man', 'mana', 'management', 'mancing', 'mancur', 'mandala', 'mandeg', 'mandi', 'manfatkan', 'mangkal', 'mangtap', 'maning', 'manis', 'manja', 'mantab', 'mantan', 'mantap', 'mantapo', 'mantaps', 'mantep', 'mantul', 'manual', 'manuju', 'manula', 'manusia', 'many', 'map', 'maps', 'mar', 'maret', 'mark', 'market', 'marketingnya', 'mas', 'masa', 'masakanya', 'masalah', 'masbro', 'masing', 'masjid', 'masker', 'maslh', 'masterpiece', 'masuk', 'masya', 'masyarakat', 'mata', 'matahari', 'matan', 'matematika', 'materi', 'mati', 'matras', 'matre', 'mau', 'maupun', 'mausk', 'max', 'mba', 'mbah', 'mbetaih', 'mbok', 'mck', 'me', 'meals', 'meanjak', 'medan', 'media', 'mediasi', 'medieval', 'meditasi', 'medsos', 'mehong', 'mei', 'meja', 'mekar', 'melawayi', 'memang', 'memangil', 'memprihatikan', 'men', 'mendhoan', 'mending', 'mendoan', 'mendowan', 'mendung', 'meng', 'mengambarkanya', 'mengangu', 'mengantarkanya', 'mengdengarkam', 'mengeksplor', 'mengeksplore', 'menghipno', 'mengigil', 'mengingil', 'mengunakan', 'meni', 'menit', 'menor', 'mentas', 'menu', 'menukarkanya', 'menyebalkanya', 'menyusuru', 'merah', 'merak', 'merinding', 'merkusi', 'mersi', 'mertua', 'mes', 'mesem', 'mesin', 'meski', 'mesti', 'mesum', 'metamorfosis', 'meter', 'meters', 'meting', 'metode', 'mets', 'mgkn', 'mhahahahaha', 'mie', 'mikat', 'milaniparty', 'milenial', 'milik', 'milir', 'milk', 'milo', 'mimin', 'min', 'minat', 'mind', 'mineral', 'mingad', 'mingu', 'mini', 'miniatur', 'minibus', 'minim', 'minimal', 'minjemin', 'minta', 'minum', 'minumanya', 'minus', 'miring', 'mirip', 'misal', 'mistis', 'mitos', 'mkanan', 'mkn', 'mksh', 'ml', 'mlipir', 'mng', 'mnghilangkan', 'mnikmati', 'mnit', 'mnjganya', 'mntep', 'mnuju', 'mnurut', 'mnyejukan', 'mo', 'mobil', 'mod', 'mode', 'model', 'modern', 'moga', 'mohon', 'mojok', 'molek', 'momen', 'moment', 'momenya', 'momong', 'mon', 'monday', 'money', 'mongo', 'monoton', 'montain', 'monumen', 'monyet', 'moprok', 'more', 'morning', 'motor', 'motret', 'mountain', 'mpererat', 'mr', 'msh', 'msih', 'msk', 'mtr', 'mu', 'muaim', 'muas', 'muasal', 'much', 'mud', 'muda', 'mudah', 'mudahbdijangkau', 'muhasabah', 'mula', 'mulai', 'multifungsi', 'mulus', 'muncul', 'mungkim', 'mungkin', 'mungut', 'murah', 'murmer', 'murni', 'museiumnya', 'musem', 'museum', 'mushala', 'mushola', 'musholanya', 'musik', 'musim', 'musium', 'musiumnya', 'musiumya', 'muslim', 'musola', 'must', 'musti', 'mute', 'muter', 'muterin', 'mutermuter', 'muternya', 'mutiara', 'my', 'naek', 'naekin', 'nafas', 'nagih', 'nah', 'naik', 'nak', 'nama', 'nambah', 'name', 'nampak', 'nampaknya', 'namum', 'nang', 'nanjak', 'napas', 'nari', 'nas', 'nasabah', 'nasi', 'nasional', 'natural', 'nature', 'nawarin', 'ndak', 'ndk', 'near', 'ned', 'neduhnya', 'negara', 'negatif', 'negeri', 'neh', 'nempel', 'nemu', 'nenambah', 'nenangin', 'neng', 'nest', 'netijen', 'never', 'new', 'next', 'nga', 'ngabis', 'ngabuburit', 'ngadain', 'ngadem', 'ngademin', 'ngajak', 'ngajakin', 'ngak', 'ngakak', 'ngalir', 'ngambil', 'ngangenin', 'ngap', 'ngapak', 'ngapan', 'ngarai', 'ngasih', 'ngebel', 'ngebilas', 'ngebosenin', 'ngecamp', 'ngecamping', 'ngecewain', 'ngeh', 'ngeksis', 'ngemil', 'ngerefresh', 'ngeri', 'ngeteh', 'ngeunah', 'ngilangin', 'ngisi', 'nglewatin', 'ngobrol', 'ngopi', 'ngos', 'ngosan', 'ngumpul', 'ngupi', 'nguras', 'ni', 'niat', 'nice', 'nih', 'nik', 'nikah', 'nikmat', 'nikmatin', 'nikmtilah', 'nilai', 'nisa', 'njing', 'no', 'nobat', 'nomor', 'nongki', 'nongkring', 'nongkrong', 'nongrong', 'nonton', 'norak', 'norma', 'normal', 'not', 'nota', 'notes', 'now', 'nowadays', 'ntar', 'nti', 'ntr', 'ntuk', 'nuansa', 'nuat', 'numismatic', 'numismatik', 'numpang', 'nungu', 'nurhasan', 'nurse', 'nurun', 'nurunin', 'nusa', 'nusantara', 'ny', 'nyala', 'nyali', 'nyama', 'nyaman', 'nyampe', 'nyamuk', 'nyang', 'nyangka', 'nyantai', 'nyantuy', 'nyanyi', 'nyari', 'nyaris', 'nyasar', 'nyata', 'nyebur', 'nyediain', 'nyemplung', 'nyepi', 'nyerah', 'nyesel', 'nyi', 'nyman', 'nyoba', 'nyobain', 'nyusurin', 'oaling', 'obat', 'object', 'objek', 'obwis', 'obyek', 'odong', 'oermainan', 'of', 'ofice', 'ogut', 'oiya', 'ojek', 'ojol', 'oke', 'oknum', 'oksigen', 'olah', 'olahraga', 'olang', 'old', 'oleh', 'oleholehnya', 'oleng', 'once', 'one', 'ones', 'online', 'only', 'open', 'operasi', 'operasional', 'operation', 'operational', 'opo', 'oprasional', 'opsi', 'opted', 'optimal', 'option', 'or', 'orang', 'orange', 'orbit', 'order', 'oreo', 'org', 'organisme', 'orgnya', 'orion', 'ornamen', 'orng', 'ortunya', 'otak', 'otoped', 'otot', 'our', 'ourdor', 'out', 'outbond', 'outbound', 'outdor', 'outing', 'over', 'overal', 'oya', 'pacar', 'pacet', 'package', 'pada', 'padahal', 'padan', 'padat', 'padu', 'pagar', 'pagi', 'paham', 'pahlawan', 'paint', 'paintbal', 'pajang', 'pak', 'pakai', 'pakan', 'pake', 'paket', 'palak', 'palawi', 'palem', 'paling', 'pam', 'pamer', 'pampang', 'panas', 'pancar', 'pancur', 'pandang', 'pandemi', 'pandu', 'pang', 'pangkas', 'pangrenan', 'pangrenanan', 'pangung', 'panjang', 'panorama', 'pantai', 'pantas', 'pantau', 'papas', 'papi', 'paradise', 'parah', 'paralayang', 'paris', 'parit', 'pariwisata', 'pariwisatacocok', 'park', 'parkir', 'parkiranya', 'parkirluas', 'party', 'pas', 'pasang', 'pasar', 'pasti', 'pasu', 'pasuk', 'patah', 'patok', 'patricia', 'patuh', 'patung', 'patut', 'paud', 'paved', 'pay', 'payah', 'payung', 'pb', 'pdahal', 'pdam', 'pdhal', 'pdhl', 'pecah', 'pecel', 'pedesan', 'pegal', 'pegang', 'peganganya', 'pegangin', 'pegawai', 'pejal', 'pekan', 'pekerjan', 'peking', 'pel', 'pelampung', 'pelangi', 'pelayananya', 'pelihara', 'peluk', 'pemandangane', 'pemandanganya', 'pemandgn', 'pemandianya', 'pemanfatan', 'pemberintahan', 'pemda', 'pemkab', 'pemkot', 'penasaran', 'penat', 'pencahayan', 'pendatan', 'pendek', 'pendopo', 'penganguran', 'pengantin', 'pengelolan', 'pengerjan', 'pengetahauan', 'pengin', 'penginya', 'penguna', 'pengunan', 'pengunungan', 'peningalan', 'penjagan', 'penjara', 'penjuru', 'pensiun', 'pentas', 'penting', 'penuh', 'people', 'pepohan', 'pepohonya', 'per', 'perah', 'perahu', 'peran', 'perangkat', 'peras', 'perawan', 'perawatany', 'perban', 'perbankn', 'perbelanjan', 'percaya', 'percik', 'perfect', 'pergi', 'perhati', 'periksa', 'perintah', 'perjalananya', 'perkotan', 'perlu', 'permadani', 'permainanya', 'permanen', 'pernah', 'pernak', 'pernik', 'perosot', 'perosotanya', 'persis', 'persisi', 'person', 'personal', 'pertama', 'pertigan', 'perum', 'perut', 'pesan', 'pesawat', 'pesing', 'pesona', 'peswat', 'pet', 'peta', 'petak', 'pete', 'pgsvsv', 'photo', 'photography', 'photohunting', 'physical', 'pi', 'pihak', 'pijat', 'pijit', 'pikik', 'pikir', 'pikirin', 'piknik', 'pikuk', 'pilih', 'pilihanya', 'pindah', 'pine', 'pines', 'pingin', 'pingir', 'pingsan', 'pinjam', 'pinter', 'pintu', 'pinus', 'pipa', 'pipis', 'pis', 'pisah', 'pisang', 'pitu', 'pk', 'pkl', 'place', 'places', 'plampung', 'plang', 'plants', 'plapon', 'plastik', 'play', 'playground', 'playgroundnya', 'please', 'ples', 'plesir', 'plesiran', 'plester', 'plezier', 'plis', 'pls', 'plus', 'pm', 'pmandangan', 'pmndangan', 'pngen', 'pngin', 'pngunjung', 'pnyemangat', 'poerwakerta', 'poerwokerto', 'poerwokertosche', 'pohon', 'pohonya', 'poin', 'point', 'pojok', 'poko', 'pokok', 'pokoke', 'pokoknha', 'pokokny', 'pokona', 'pokonye', 'polusi', 'pom', 'poni', 'ponsel', 'pop', 'popmie', 'populer', 'porsi', 'pos', 'posisi', 'post', 'posting', 'potensi', 'potensial', 'poto', 'potong', 'potonya', 'potopoto', 'praktis', 'pramuka', 'pranowo', 'prasarana', 'pre', 'prefer', 'premium', 'prestasi', 'prewed', 'preweding', 'pribadi', 'price', 'prihatin', 'prima', 'primadona', 'pristine', 'privat', 'private', 'priyayi', 'profesional', 'program', 'projek', 'prokes', 'promo', 'promosi', 'properti', 'pros', 'proses', 'prosotan', 'prosotanya', 'protocol', 'protokol', 'provided', 'provider', 'provinsi', 'prsaudaran', 'psb', 'psk', 'psngisian', 'pt', 'pualing', 'puanasnya', 'puas', 'puasa', 'publik', 'pucuk', 'pujasera', 'pukau', 'pukul', 'pul', 'pulang', 'pulau', 'puluh', 'punah', 'puncak', 'pungli', 'pungut', 'punya', 'punyah', 'puol', 'pup', 'pura', 'purbalinga', 'purwakerto', 'purwakertosche', 'purwerketo', 'purwokerto', 'purwokertom', 'pus', 'pusat', 'pusing', 'pusta', 'pustaka', 'putar', 'putih', 'puting', 'putra', 'putri', 'putus', 'pvc', 'pwkrto', 'pwrmainan', 'pwt', 'quality', 'quite', 'ra', 'rabit', 'rada', 'raden', 'raga', 'ragam', 'ragu', 'ragunan', 'raharja', 'raih', 'rajawali', 'rajin', 'raksasa', 'rakyat', 'ramadhan', 'ramah', 'ramai', 'rame', 'rameh', 'rames', 'rancang', 'rangka', 'ranting', 'rapi', 'rapih', 'rasa', 'rata', 'rather', 'rating', 'ratus', 'raw', 'rawan', 'rawat', 'rawit', 'rawon', 'raya', 'razia', 'rb', 'rbu', 're', 'reach', 'ready', 'realy', 'rebu', 'rebus', 'rebut', 'receh', 'recomded', 'recomen', 'recomend', 'recomended', 'recreation', 'reda', 'reden', 'redup', 'referensi', 'refleksi', 'refref', 'refresh', 'refreshing', 'refresing', 'refrigerator', 'refrshing', 'reg', 'register', 'regret', 'rehat', 'rekan', 'rekening', 'rekom', 'rekomed', 'rekomen', 'rekomend', 'rekomendasi', 'rekomended', 'rekomendet', 'rekomendit', 'rekreasi', 'rela', 'relaks', 'relaksasi', 'relatif', 'relax', 'relaxation', 'relaxing', 'rem', 'remaja', 'remang', 'rempoah', 'renag', 'renang', 'rencana', 'rendah', 'rendam', 'renovasi', 'rentenir', 'renung', 'renyah', 'replication', 'replika', 'replikasi', 'repot', 'representatif', 'request', 'reratif', 'rescue', 'reseler', 'resik', 'resin', 'resist', 'resmi', 'respon', 'rest', 'resto', 'restonya', 'restoran', 'restu', 'retain', 'retribusi', 'reuni', 'reunion', 'review', 'revolusi', 'ri', 'ria', 'riah', 'ribet', 'ribu', 'ribut', 'ride', 'right', 'rileks', 'rimba', 'rimbun', 'rimbunya', 'rindang', 'rindu', 'ringan', 'rintis', 'risi', 'risih', 'riuh', 'river', 'rmh', 'road', 'roboh', 'robot', 'rocks', 'roda', 'rogoh', 'rokok', 'role', 'roler', 'romantis', 'rombong', 'ronde', 'rope', 'ropes', 'rotan', 'roti', 'rsmikan', 'ruang', 'ruanganya', 'rubah', 'rugi', 'ruko', 'rumah', 'rumayan', 'rumput', 'rupa', 'rupiah', 'rusa', 'rusak', 'rush', 'rute', 'rutin', 'rutinitas', 'ruwet', 'sabar', 'sabtu', 'sabun', 'sachetan', 'sadar', 'sadran', 'sae', 'sahabat', 'saji', 'saking', 'sakit', 'saksi', 'salah', 'salahgunakan', 'salam', 'salesnya', 'salur', 'salut', 'sama', 'saman', 'sambal', 'sambang', 'sambel', 'sambelnya', 'sambut', 'samgat', 'sampa', 'sampah', 'sampai', 'sampang', 'sampe', 'samping', 'sana', 'sanak', 'sanca', 'sandal', 'sangat', 'sangka', 'sangkar', 'sans', 'santa', 'santai', 'sante', 'sapai', 'sapi', 'sara', 'saran', 'sarana', 'sarangan', 'sarap', 'sari', 'sat', 'sate', 'satelit', 'satpam', 'satpol', 'satu', 'saturday', 'satwa', 'saudara', 'saung', 'sawah', 'sawahnyg', 'sawangan', 'sayang', 'sayur', 'sb', 'sbg', 'sbgainya', 'sblh', 'sblm', 'sblmnya', 'scatered', 'scren', 'sd', 'sdh', 'se', 'seat', 'seating', 'sebab', 'sebal', 'sebar', 'sebenernya', 'sebentar', 'seberang', 'sebernarnya', 'sebrang', 'sebut', 'sec', 'secure', 'security', 'sedang', 'sedep', 'sederhana', 'sedia', 'sedikit', 'sedot', 'segala', 'segar', 'segara', 'seger', 'segera', 'segi', 'sehat', 'sehinga', 'seiklasnya', 'sejahtera', 'sejak', 'sejarah', 'sejrh', 'sejuk', 'sekal', 'sekali', 'sekaligus', 'sekarang', 'sekian', 'sekira', 'sekitar', 'sekluarga', 'sekolah', 'sekuer', 'selaku', 'selalu', 'selam', 'selamat', 'selamet', 'selaras', 'selasa', 'selatan', 'selatangunung', 'selebgram', 'selengarakan', 'selera', 'selesai', 'self', 'selfi', 'selfie', 'selfinya', 'selimut', 'seloka', 'seluk', 'seluncur', 'seluruh', 'sem', 'semak', 'semangat', 'semarang', 'sembarang', 'sembari', 'sembuh', 'sembunyi', 'sembur', 'semedi', 'semen', 'semenjak', 'semi', 'semoet', 'semoiga', 'sempat', 'sempet', 'sempetin', 'sempit', 'sempurna', 'semrawut', 'semua', 'sen', 'senam', 'senang', 'sendamg', 'sendang', 'sendhang', 'sendiri', 'seng', 'sengaja', 'seni', 'senin', 'senjuk', 'sensasi', 'sensation', 'sentuh', 'senyuk', 'senyum', 'sepeda', 'sepede', 'seperti', 'sepi', 'seporete', 'seprti', 'september', 'sepuase', 'sera', 'seragam', 'serah', 'seram', 'serama', 'seranga', 'serasa', 'serasi', 'seri', 'sering', 'seringa', 'serius', 'serta', 'seru', 'seruput', 'serve', 'service', 'services', 'servis', 'sesajen', 'sesak', 'sesal', 'sesat', 'sesi', 'sesuai', 'setapak', 'setles', 'several', 'sewa', 'shady', 'sharing', 'she', 'shelter', 'shg', 'sholat', 'shop', 'shops', 'short', 'shots', 'shout', 'shows', 'si', 'sia', 'siaga', 'siang', 'siap', 'siapa', 'siatas', 'sibuk', 'sign', 'signal', 'signifikan', 'sih', 'sikap', 'sikecil', 'sikunir', 'sila', 'silah', 'silaturahmi', 'silent', 'simpan', 'simpang', 'simple', 'simpul', 'simulasi', 'sin', 'sing', 'singah', 'singkat', 'singkong', 'sini', 'sinyal', 'siomay', 'sip', 'sis', 'sisa', 'sisi', 'sist', 'sistem', 'situ', 'situasi', 'situs', 'siyap', 'skala', 'skali', 'skating', 'skil', 'skitar', 'skli', 'skrg', 'skrng', 'sktr', 'skuter', 'sky', 'slalu', 'slamet', 'slametmemiliki', 'sleping', 'sliding', 'slip', 'slow', 'sm', 'sma', 'smal', 'smart', 'smbil', 'smp', 'smpai', 'smua', 'smuanya', 'smw', 'snack', 'snacks', 'sngat', 'snorkeling', 'snorkling', 'so', 'soal', 'soalnha', 'sobat', 'soedirman', 'soedirnan', 'sofar', 'soft', 'solat', 'soldier', 'solo', 'some', 'something', 'sono', 'sopan', 'sore', 'sorot', 'sosial', 'souvenir', 'spar', 'sparbank', 'special', 'spektakuler', 'spend', 'sperti', 'spiker', 'spiral', 'sport', 'spot', 'spotnya', 'spots', 'spring', 'spt', 'spy', 'src', 'st', 'stabil', 'staf', 'stamina', 'stand', 'standar', 'standard', 'standart', 'standnya', 'stapak', 'stasiun', 'state', 'station', 'stay', 'stil', 'stlh', 'strategis', 'stres', 'stret', 'stroler', 'struck', 'studio', 'study', 'studytour', 'stuf', 'stw', 'style', 'su', 'suami', 'suara', 'suasa', 'suasana', 'suasanan', 'suatu', 'subhana', 'subsidi', 'subuh', 'such', 'suci', 'sudaj', 'sudan', 'sudantoko', 'sudirman', 'sudut', 'sueger', 'suejuk', 'suguh', 'suhu', 'suiang', 'suitable', 'sujuk', 'suk', 'suka', 'sukak', 'sukan', 'suket', 'sukmadian', 'sukses', 'sulap', 'sulit', 'sumatera', 'sumber', 'sumpah', 'sumpek', 'sumur', 'sun', 'sunda', 'sungai', 'sungkan', 'sunguh', 'sunyi', 'super', 'supir', 'supirnya', 'sure', 'sureal', 'surga', 'surounding', 'suru', 'suruh', 'surut', 'surya', 'susah', 'susu', 'susun', 'susur', 'suwejuk', 'swa', 'swafoto', 'swalayan', 'swasta', 'swat', 'swim', 'swiming', 'swing', 'swis', 'swt', 'sy', 'syahdu', 'syang', 'syantik', 'syaraf', 'syekale', 'syg', 'sygnya', 'synthetic', 'syura', 'tabir', 'tabung', 'tadi', 'tagih', 'tahan', 'tahap', 'tahu', 'tahun', 'tajam', 'take', 'takjub', 'taksi', 'takut', 'tal', 'tali', 'tam', 'tamah', 'taman', 'tamanya', 'tamasya', 'tambah', 'tambang', 'tamda', 'tamnahan', 'tampak', 'tampat', 'tampil', 'tampung', 'tamu', 'tanah', 'tanam', 'tanamanya', 'tanda', 'tanga', 'tangal', 'tangan', 'tanganya', 'tangkal', 'tani', 'tanjak', 'tantang', 'tanya', 'tapai', 'tape', 'tapiaku', 'taraf', 'tari', 'tarif', 'tarik', 'tas', 'tasik', 'taspen', 'tata', 'tatanan', 'tau', 'taun', 'tawa', 'tawan', 'tawar', 'tawon', 'tdi', 'tea', 'team', 'teater', 'tebal', 'tebar', 'tebing', 'teduh', 'tegal', 'tegang', 'tegas', 'teh', 'tejunya', 'tek', 'teknologi', 'telaga', 'teleportasibke', 'telu', 'telug', 'telur', 'telusur', 'tema', 'teman', 'temapat', 'temapt', 'temen', 'temenku', 'temoatnya', 'tempa', 'tempaini', 'tempan', 'tempar', 'tempat', 'tempate', 'tempe', 'tempo', 'tempstnya', 'tempt', 'tempuh', 'temu', 'tenaga', 'tenang', 'tenangin', 'tenant', 'tenda', 'tengah', 'tengelam', 'tenis', 'tenpat', 'tentara', 'tentrem', 'tentu', 'tepat', 'tepi', 'ter', 'tera', 'terada', 'teralalu', 'terang', 'terap', 'terapi', 'teras', 'terbang', 'tergangu', 'terhimpit', 'terholong', 'teriak', 'terik', 'terima', 'terimakasih', 'terjal', 'terjemah', 'terjun', 'terjunya', 'terkadang', 'terkordinir', 'terlalu', 'terminal', 'termsk', 'terna', 'ternak', 'tertawa', 'tertib', 'tertribusi', 'terus', 'tetap', 'tetapakemasker', 'tetasa', 'tetep', 'tetjangkau', 'tg', 'tgl', 'th', 'than', 'thank', 'thanks', 'that', 'thats', 'their', 'theme', 'then', 'therapi', 'there', 'these', 'they', 'theyl', 'things', 'thn', 'thoroughly', 'those', 'thought', 'thril', 'throughout', 'tiada', 'tiap', 'tiba', 'ticker', 'ticket', 'ticketnya', 'tidur', 'tiga', 'tikar', 'tiker', 'tiket', 'tiketing', 'tiketn', 'tiketny', 'tikung', 'tilas', 'tilu', 'tim', 'timbang', 'time', 'timur', 'tindak', 'tingal', 'tingi', 'tingkat', 'tipis', 'tiru', 'titik', 'titip', 'titipin', 'tiup', 'tk', 'tkp', 'tks', 'tlaga', 'tlaganya', 'tman', 'tmn', 'tmp', 'tmpat', 'tmpatnya', 'tmpnya', 'tmpt', 'tmptnya', 'toiket', 'toilet', 'toioetnya', 'tok', 'toko', 'tolak', 'tolong', 'ton', 'tongkrong', 'tonton', 'top', 'topi', 'tos', 'tosca', 'total', 'totaly', 'tour', 'tourism', 'towards', 'town', 'tpi', 'track', 'tracking', 'tracknya', 'trade', 'tradisional', 'traditional', 'trafic', 'train', 'training', 'tralis', 'trampolin', 'trampoline', 'transaksi', 'transfer', 'transit', 'transport', 'transpotasi', 'traquility', 'traspot', 'traveling', 'trbilang', 'tre', 'trek', 'treking', 'trekingnya', 'tres', 'trhdp', 'trima', 'trimakasih', 'trimkasij', 'trip', 'trmasuk', 'trmsk', 'trmsuk', 'trotoar', 'trs', 'truck', 'trus', 'trutama', 'tsb', 'tu', 'tua', 'tualang', 'tubuh', 'tug', 'tugas', 'tugu', 'tuh', 'tuhan', 'tuju', 'tujuh', 'tuk', 'tukang', 'tukar', 'tuket', 'tulis', 'tulisanya', 'tumbuh', 'tumpang', 'tunai', 'tunas', 'tungu', 'tunjang', 'tunjuk', 'tup', 'turns', 'turun', 'turunya', 'turut', 'tutup', 'uang', 'ubah', 'ubek', 'ubi', 'ucap', 'udah', 'udan', 'udara', 'udh', 'uh', 'ujan', 'uji', 'ujug', 'ujung', 'ukur', 'ukuranya', 'ulang', 'ular', 'ulas', 'umat', 'umbul', 'umum', 'umur', 'unbelieveble', 'undang', 'under', 'understand', 'underwater', 'underwaternya', 'unforgetable', 'unfortunately', 'ungah', 'ungas', 'ungul', 'ungulan', 'ungun', 'uniform', 'uniforms', 'unik', 'unique', 'unit', 'universitas', 'unjung', 'unsoed', 'unsur', 'unt', 'unta', 'untk', 'untuj', 'untun', 'untung', 'unyil', 'upa', 'upacara', 'update', 'ups', 'uras', 'urat', 'urung', 'urus', 'urut', 'us', 'usah', 'usaha', 'use', 'usia', 'usir', 'usul', 'utama', 'utan', 'utara', 'uwenak', 'uy', 'valey', 'value', 'varia', 'varian', 'variasi', 'variatif', 'vegetasi', 'vel', 'versi', 'very', 'vibe', 'video', 'vienya', 'view', 'viewnya', 'views', 'vila', 'vilage', 'virus', 'visibility', 'visit', 'visited', 'visitor', 'visitors', 'vit', 'vitamale', 'voc', 'volume', 'voucher', 'wa', 'wadah', 'wafer', 'wafle', 'waflenya', 'wah', 'wahana', 'wahanan', 'waitres', 'wajah', 'wajahna', 'wajar', 'wajib', 'waktu', 'walaupun', 'walopun', 'wals', 'wan', 'wana', 'wanasuka', 'wanawisata', 'wangi', 'want', 'war', 'waras', 'warga', 'warna', 'warni', 'warung', 'warungwarung', 'was', 'waspada', 'watched', 'water', 'waterbom', 'waterfal', 'waw', 'wawas', 'way', 'wc', 'wcnya', 'we', 'weather', 'wedang', 'weding', 'wefie', 'wekand', 'wekday', 'wekdays', 'wekedn', 'wekend', 'wekends', 'welcome', 'welcoming', 'were', 'westrn', 'wetan', 'when', 'where', 'which', 'while', 'who', 'why', 'wib', 'wida', 'widoro', 'widya', 'wifi', 'wiken', 'wiki', 'wikipedia', 'wil', 'wilayah', 'wind', 'wiratmadja', 'wiratmaja', 'wirayuda', 'wiria', 'wiriatmadja', 'wiriatmaja', 'wirjatmadja', 'wirya', 'wiryatmadja', 'wiryatmaja', 'wisata', 'wisatany', 'wisatawan', 'wisatayang', 'wisma', 'wista', 'with', 'wktu', 'wkwk', 'wkwkw', 'wkwkwk', 'wkwkwkwk', 'wlopun', 'wlpun', 'wo', 'wonderful', 'wong', 'wonosobo', 'work', 'world', 'wortel', 'worth', 'wory', 'wotrh', 'would', 'wow', 'wrna', 'wuah', 'wujud', 'xixi', 'xixixi', 'xixixixi', 'yah', 'yaiyalah', 'yak', 'yakin', 'yaman', 'yamg', 'yan', 'yantai', 'years', 'yes', 'yet', 'yh', 'yo', 'yogyakarta', 'you', 'your', 'youtube', 'yuk', 'yuks', 'yumy', 'zaman', 'zheyeng', 'zip', 'zo', 'zona']\n",
            "[[0 0 0 ... 0 0 0]\n",
            " [0 0 0 ... 0 0 0]\n",
            " [0 0 0 ... 0 0 0]\n",
            " ...\n",
            " [0 0 0 ... 0 0 0]\n",
            " [1 0 0 ... 0 0 0]\n",
            " [0 0 0 ... 0 0 0]]\n"
          ]
        },
        {
          "output_type": "stream",
          "name": "stderr",
          "text": [
            "/usr/local/lib/python3.8/dist-packages/sklearn/utils/deprecation.py:87: FutureWarning: Function get_feature_names is deprecated; get_feature_names is deprecated in 1.0 and will be removed in 1.2. Please use get_feature_names_out instead.\n",
            "  warnings.warn(msg, category=FutureWarning)\n"
          ]
        }
      ],
      "source": [
        "#TF\n",
        "from sklearn.feature_extraction.text import CountVectorizer\n",
        "\n",
        "tf_vectorizer = CountVectorizer(max_df=1.0, min_df=1)\n",
        "tf = tf_vectorizer.fit_transform(data)\n",
        "\n",
        "tf_terms = tf_vectorizer.get_feature_names()\n",
        "print(tf_vectorizer.get_feature_names())\n",
        "matrix = tf.toarray()\n",
        "print(matrix)"
      ]
    },
    {
      "cell_type": "code",
      "execution_count": null,
      "metadata": {
        "colab": {
          "base_uri": "https://localhost:8080/"
        },
        "id": "azixe4XQomsM",
        "outputId": "6c8c8127-ec46-456a-ebd1-6371abdb7fbd"
      },
      "outputs": [
        {
          "output_type": "execute_result",
          "data": {
            "text/plain": [
              "LatentDirichletAllocation(random_state=0)"
            ]
          },
          "metadata": {},
          "execution_count": 79
        }
      ],
      "source": [
        "#LDA\n",
        "from sklearn.decomposition import LatentDirichletAllocation as LDA\n",
        "jumlah_topics = 10\n",
        "lda = LDA(n_components = jumlah_topics,learning_method ='batch',random_state = 0).fit(tf)\n",
        "lda"
      ]
    },
    {
      "cell_type": "code",
      "execution_count": null,
      "metadata": {
        "colab": {
          "base_uri": "https://localhost:8080/"
        },
        "id": "7BABy_MDomsM",
        "outputId": "bca18713-1a2f-4357-efd2-2d77f5eee595"
      },
      "outputs": [
        {
          "output_type": "stream",
          "name": "stdout",
          "text": [
            "(2164, 10)\n",
            "[[0.15818655 0.19026441 0.00144985 ... 0.0014499  0.00144963 0.00144983]\n",
            " [0.87141486 0.01428725 0.01428676 ... 0.01428729 0.01428574 0.01428671]\n",
            " [0.00294179 0.0029415  0.21325161 ... 0.35846972 0.00294198 0.00294148]\n",
            " ...\n",
            " [0.00312553 0.0031253  0.00312614 ... 0.00312534 0.0031252  0.37337447]\n",
            " [0.29771417 0.00370412 0.00370469 ... 0.00370424 0.06649755 0.00370454]\n",
            " [0.00526454 0.00526405 0.56878006 ... 0.00526345 0.0622542  0.23907842]]\n"
          ]
        }
      ],
      "source": [
        "#Training\n",
        "train_topics = lda.transform(tf)\n",
        "\n",
        "print(train_topics.shape)\n",
        "print(train_topics)"
      ]
    },
    {
      "cell_type": "code",
      "execution_count": null,
      "metadata": {
        "colab": {
          "base_uri": "https://localhost:8080/"
        },
        "id": "s_9T4sLyomsM",
        "outputId": "c0f06434-9c02-44a5-8bf4-dce39f71358c"
      },
      "outputs": [
        {
          "output_type": "stream",
          "name": "stdout",
          "text": [
            "[[0.10006787 0.1        0.1        ... 0.1        3.1        1.09996927]\n",
            " [0.1        0.1        0.1        ... 0.1        0.1        0.1       ]\n",
            " [0.10000282 0.1        0.1        ... 0.1        0.10009344 0.1       ]\n",
            " ...\n",
            " [0.1        0.1        0.1        ... 0.10001973 0.1        0.1       ]\n",
            " [0.10001992 0.1        0.1        ... 0.1        0.1        0.1       ]\n",
            " [1.09998395 0.1        0.1        ... 0.1        3.09989321 0.10001655]]\n"
          ]
        }
      ],
      "source": [
        "print(lda.components_)"
      ]
    },
    {
      "cell_type": "code",
      "execution_count": null,
      "metadata": {
        "id": "yv47TlWOomsN"
      },
      "outputs": [],
      "source": [
        "top_words = 5\n",
        "topic_words = {}\n",
        "for topic,comp in enumerate(lda.components_):\n",
        "    word_index = np.argsort(comp)[::-1][:top_words]\n",
        "    topic_words[topic] = [tf_vectorizer.get_feature_names()[i] + ' '+str(comp[i])for i in word_index]\n",
        "    "
      ]
    },
    {
      "cell_type": "code",
      "execution_count": null,
      "metadata": {
        "colab": {
          "base_uri": "https://localhost:8080/"
        },
        "id": "3qioAEaSomsN",
        "outputId": "9c81741b-1f66-4252-a7f8-9807cd49e1b8"
      },
      "outputs": [
        {
          "output_type": "stream",
          "name": "stdout",
          "text": [
            "Topic:0\n",
            "tempat 317.90849850961615 , keluarga 199.6136146669992 , cocok 141.54075014312815 , bagus 116.23089709435843 , sama 85.65878384761896\n",
            "Topic:1\n",
            "air 72.21397625116401 , adem 55.47082488197963 , tempat 52.094155495389785 , seger 48.98341783659082 , dingin 36.69789485699673\n",
            "Topic:2\n",
            "anak 110.26080084900602 , tempat 93.73167071387171 , enak 74.15879585822435 , bagus 59.14102070006851 , kalau 51.031208982398276\n",
            "Topic:3\n",
            "banyak 145.29414370736933 , tempat 124.59472804701706 , anak 118.67362129896058 , masuk 113.63765525066769 , tiket 107.46016649206412\n",
            "Topic:4\n",
            "baturaden 171.31214471886904 , telaga 164.83497568795215 , wisata 153.16388219455385 , sunyi 121.40971242818624 , air 118.28113294538363\n",
            "Topic:5\n",
            "museum 31.158073530332892 , bank 22.33272409974282 , you 17.31314049542919 , purwokerto 16.79771140021616 , of 14.204803135134819\n",
            "Topic:6\n",
            "sejarah 98.51617918769222 , bank 80.8672680759233 , indonesia 69.15929550330877 , uang 67.78205022608252 , museum 67.74074816188524\n",
            "Topic:7\n",
            "sejuk 170.68421157866072 , tempat 131.9221016520616 , nyaman 107.78221186428682 , indah 90.590125324644 , asri 76.32500127938384\n",
            "Topic:8\n",
            "asli 112.2033057389315 , gogle 104.6958958548523 , terjemah 101.78679403587559 , bagus 81.13048520706077 , tempat 48.61432480646992\n",
            "Topic:9\n",
            "air 277.00588116747105 , curug 205.51748419029 , tempat 184.93504337518496 , masuk 115.27615321121858 , jalan 113.13060518194956\n"
          ]
        }
      ],
      "source": [
        "for topic,words in topic_words.items():\n",
        "    print(f'Topic:{topic}')\n",
        "    print(' , '.join(words))\n"
      ]
    },
    {
      "cell_type": "markdown",
      "source": [
        "Kesimpulan: <br>\n",
        "setelah dilakukan topic modelling pada data review di atas. Dapat kita simpulkan bahwa yang menjadi topik teratas adalah [tempat,air,baturraden,sejarah,sejuk,dan anak]"
      ],
      "metadata": {
        "id": "2oBR1_m7zhcl"
      }
    }
  ],
  "metadata": {
    "kernelspec": {
      "display_name": "Python 3.10.0 64-bit",
      "language": "python",
      "name": "python3"
    },
    "language_info": {
      "codemirror_mode": {
        "name": "ipython",
        "version": 3
      },
      "file_extension": ".py",
      "mimetype": "text/x-python",
      "name": "python",
      "nbconvert_exporter": "python",
      "pygments_lexer": "ipython3",
      "version": "3.10.0"
    },
    "orig_nbformat": 4,
    "vscode": {
      "interpreter": {
        "hash": "adcfec53722a3f6115dbc31ed34bc83c7a386411fb3bed53f06e1df68cb3f776"
      }
    },
    "colab": {
      "provenance": []
    }
  },
  "nbformat": 4,
  "nbformat_minor": 0
}